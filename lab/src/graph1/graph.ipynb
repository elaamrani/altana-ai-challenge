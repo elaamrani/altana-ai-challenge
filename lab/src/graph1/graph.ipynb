{
 "cells": [
  {
   "cell_type": "code",
   "execution_count": 1,
   "id": "1531433b-4226-449b-8a67-c1d257f6f89c",
   "metadata": {},
   "outputs": [],
   "source": [
    "import pandas as pd\n",
    "from arango import ArangoClient"
   ]
  },
  {
   "cell_type": "code",
   "execution_count": 2,
   "id": "1a8f4855-d8f0-4e9c-bbd7-9f1c01c8bb86",
   "metadata": {},
   "outputs": [],
   "source": [
    "client = ArangoClient(hosts=\"https://2ae4f052d710.arangodb.cloud:8529\")\n",
    "\n",
    "db = client.db('machine_learning', username='lab_test', password='z-rRdN-Enf4qQwybGiVdbG')"
   ]
  },
  {
   "cell_type": "code",
   "execution_count": 3,
   "id": "93429c14-8c61-4543-ab79-c27e292326c7",
   "metadata": {},
   "outputs": [
    {
     "name": "stdout",
     "output_type": "stream",
     "text": [
      "Graph 'organization_organization_transaction' created successfully with organization and transaction collections.\n"
     ]
    }
   ],
   "source": [
    "graph_name = 'organization_organization_transaction'\n",
    "if not db.has_graph(graph_name):\n",
    "    graph = db.create_graph(graph_name)\n",
    "    graph.create_vertex_collection('organizations')\n",
    "    graph.create_edge_definition(\n",
    "        edge_collection='transactions',\n",
    "        from_vertex_collections=['organizations'],\n",
    "        to_vertex_collections=['organizations']\n",
    "    )\n",
    "else:\n",
    "    graph = db.graph(graph_name)\n",
    "\n",
    "print(f\"Graph '{graph_name}' created successfully with organization and transaction collections.\")"
   ]
  },
  {
   "cell_type": "code",
   "execution_count": 4,
   "id": "8a097127-6a99-4749-800b-48f06d9567d1",
   "metadata": {},
   "outputs": [
    {
     "data": {
      "text/plain": [
       "{'_conn': <arango.connection.BasicConnection at 0xffff81647850>,\n",
       " '_executor': <arango.executor.DefaultApiExecutor at 0xffff7602edd0>,\n",
       " '_name': 'organization_organization_transaction'}"
      ]
     },
     "execution_count": 4,
     "metadata": {},
     "output_type": "execute_result"
    }
   ],
   "source": [
    "graph.__dict__"
   ]
  },
  {
   "cell_type": "code",
   "execution_count": null,
   "id": "91a57c53-4429-4d15-b5dc-e4d36569a9d2",
   "metadata": {},
   "outputs": [],
   "source": []
  }
 ],
 "metadata": {
  "kernelspec": {
   "display_name": "Python 3 (ipykernel)",
   "language": "python",
   "name": "python3"
  },
  "language_info": {
   "codemirror_mode": {
    "name": "ipython",
    "version": 3
   },
   "file_extension": ".py",
   "mimetype": "text/x-python",
   "name": "python",
   "nbconvert_exporter": "python",
   "pygments_lexer": "ipython3",
   "version": "3.11.10"
  }
 },
 "nbformat": 4,
 "nbformat_minor": 5
}

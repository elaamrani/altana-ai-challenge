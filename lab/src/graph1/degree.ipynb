{
 "cells": [
  {
   "cell_type": "code",
   "execution_count": 4,
   "id": "825a4116-1adc-4d5c-ae45-8df90bfda6fa",
   "metadata": {},
   "outputs": [],
   "source": [
    "import os\n",
    "import pandas as pd\n",
    "from arango import ArangoClient"
   ]
  },
  {
   "cell_type": "code",
   "execution_count": 5,
   "id": "bbb50b37-e7eb-48df-8a4c-44f81b677fa0",
   "metadata": {},
   "outputs": [
    {
     "data": {
      "text/plain": [
       "'/home/jovyan/centrality'"
      ]
     },
     "execution_count": 5,
     "metadata": {},
     "output_type": "execute_result"
    }
   ],
   "source": [
    "os.getcwd()"
   ]
  },
  {
   "cell_type": "code",
   "execution_count": 6,
   "id": "a858cd3d-5fbc-4d2e-aa4d-fcce949309b3",
   "metadata": {},
   "outputs": [],
   "source": [
    "raw_df = pd.read_csv('../data/raw.csv')"
   ]
  },
  {
   "cell_type": "code",
   "execution_count": 7,
   "id": "7a95d8da-59fe-4054-bc05-ffb744a2ec57",
   "metadata": {},
   "outputs": [],
   "source": [
    "client = ArangoClient(hosts=\"https://2ae4f052d710.arangodb.cloud:8529\")\n",
    "\n",
    "db = client.db('machine_learning', username='lab_test', password='z-rRdN-Enf4qQwybGiVdbG')"
   ]
  },
  {
   "cell_type": "code",
   "execution_count": 8,
   "id": "71a3f789-8720-4e70-8abb-f505cdf5bdf5",
   "metadata": {},
   "outputs": [],
   "source": [
    "# db.delete_view('degree_centrality_view')"
   ]
  },
  {
   "cell_type": "code",
   "execution_count": 24,
   "id": "20dc0818-05b1-41b7-b054-cb924c123b93",
   "metadata": {},
   "outputs": [],
   "source": [
    "# if not db.has_view('degree_centrality_view'):\n",
    "# if 'degree_centrality_view' not in [view['name'] for view in db.views()]:\n",
    "#     degree_centrality = db.create_view(\n",
    "#         name='degree_centrality_view', \n",
    "#         view_type='arangosearch', \n",
    "#         properties={\n",
    "#             'links': {\n",
    "#                 'organizations': {\n",
    "#                     'includeAllFields': True\n",
    "#                 }\n",
    "#             },\n",
    "#             'consolidation_interval_msec': 1000  # Refresh the view every second\n",
    "#         }\n",
    "#     )\n",
    "# else:\n",
    "#     degree_centrality = db.update_view(\n",
    "#         name='degree_centrality_view', \n",
    "#         properties={\n",
    "#             'links': {\n",
    "#                 'organizations': {\n",
    "#                     'includeAllFields': True\n",
    "#                 }\n",
    "#             },\n",
    "#             'consolidation_interval_msec': 1000  # Refresh the view every second\n",
    "#         }\n",
    "#     )\n",
    "# degree_centrality = db.view('degree_centrality_view')\n",
    "\n",
    "# degree_centrality.update_properties({\n",
    "#     'links': {\n",
    "#         'organizations': {\n",
    "#             'includeAllFields': True\n",
    "#         }\n",
    "#     }\n",
    "# })\n",
    "\n",
    "aql_query = \"\"\"\n",
    "FOR v IN organizations\n",
    "    LET outbound_degree_centrality = LENGTH(\n",
    "        FOR e IN transactions\n",
    "            FILTER e._from == v._id\n",
    "            RETURN e\n",
    "    )\n",
    "    LET inbound_degree_centrality = LENGTH(\n",
    "        FOR e IN transactions\n",
    "            FILTER e._to == v._id\n",
    "            RETURN e\n",
    "    )\n",
    "    LET total_degree_centrality = outbound_degree_centrality + inbound_degree_centrality\n",
    "\n",
    "    RETURN {\n",
    "        _key: v._key,\n",
    "        inbound_degree: inbound_degree_centrality,\n",
    "        outbound_degree: outbound_degree_centrality,\n",
    "        total_degree: total_degree_centrality\n",
    "    }\n",
    "\"\"\""
   ]
  },
  {
   "cell_type": "code",
   "execution_count": 25,
   "id": "540ee5ef-9c4e-43de-8590-cf2b3c03fe04",
   "metadata": {},
   "outputs": [],
   "source": [
    "cursor = db.aql.execute(aql_query)\n",
    "scores = list(cursor)"
   ]
  },
  {
   "cell_type": "code",
   "execution_count": 26,
   "id": "866b66cf-9989-460a-8c3b-f4d74df3d37f",
   "metadata": {},
   "outputs": [
    {
     "name": "stdout",
     "output_type": "stream",
     "text": [
      "{'_key': '0d47cd9e69a49f9664f8b8833e61f0d3', 'inbound_degree': 834, 'outbound_degree': 73, 'total_degree': 907}\n"
     ]
    }
   ],
   "source": [
    "for score in scores:\n",
    "    if score['_key'] == '0d47cd9e69a49f9664f8b8833e61f0d3':\n",
    "        print(score)"
   ]
  },
  {
   "cell_type": "code",
   "execution_count": 27,
   "id": "ab19a9fc-c99c-4454-be31-657d278dcad4",
   "metadata": {},
   "outputs": [
    {
     "data": {
      "text/plain": [
       "np.int64(73)"
      ]
     },
     "execution_count": 27,
     "metadata": {},
     "output_type": "execute_result"
    }
   ],
   "source": [
    "(raw_df['sender_id'] == '0d47cd9e69a49f9664f8b8833e61f0d3').sum()"
   ]
  },
  {
   "cell_type": "code",
   "execution_count": 28,
   "id": "fe107584-78a4-4733-ac8d-3b42cacc4bad",
   "metadata": {},
   "outputs": [
    {
     "data": {
      "text/plain": [
       "np.int64(834)"
      ]
     },
     "execution_count": 28,
     "metadata": {},
     "output_type": "execute_result"
    }
   ],
   "source": [
    "(raw_df['receiver_id'] == '0d47cd9e69a49f9664f8b8833e61f0d3').sum()"
   ]
  },
  {
   "cell_type": "code",
   "execution_count": 29,
   "id": "e95e261a-110f-438c-952f-1ef08f26be1e",
   "metadata": {},
   "outputs": [],
   "source": [
    "if db.has_collection('organization_organization_transaction_degree'):\n",
    "    collection = db.collection('organization_organization_transaction_degree')\n",
    "else:\n",
    "    collection = db.create_collection('organization_organization_transaction_degree')"
   ]
  },
  {
   "cell_type": "code",
   "execution_count": 30,
   "id": "5b695866-81b9-431d-8801-8234f187856c",
   "metadata": {},
   "outputs": [
    {
     "data": {
      "text/plain": [
       "True"
      ]
     },
     "execution_count": 30,
     "metadata": {},
     "output_type": "execute_result"
    }
   ],
   "source": [
    "collection.insert_many(scores, overwrite_mode=\"replace\", silent=True)"
   ]
  },
  {
   "cell_type": "code",
   "execution_count": null,
   "id": "8d6fca30-49ae-41d0-b061-b24bae106d23",
   "metadata": {},
   "outputs": [],
   "source": []
  }
 ],
 "metadata": {
  "kernelspec": {
   "display_name": "Python 3 (ipykernel)",
   "language": "python",
   "name": "python3"
  },
  "language_info": {
   "codemirror_mode": {
    "name": "ipython",
    "version": 3
   },
   "file_extension": ".py",
   "mimetype": "text/x-python",
   "name": "python",
   "nbconvert_exporter": "python",
   "pygments_lexer": "ipython3",
   "version": "3.11.10"
  }
 },
 "nbformat": 4,
 "nbformat_minor": 5
}

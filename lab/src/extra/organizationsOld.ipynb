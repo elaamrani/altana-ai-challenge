{
 "cells": [
  {
   "cell_type": "code",
   "execution_count": 2,
   "id": "6bbacd2a-b1b5-4627-8a26-d32f74e46243",
   "metadata": {},
   "outputs": [],
   "source": [
    "import csv\n",
    "import pandas as pd\n",
    "from arango import ArangoClient"
   ]
  },
  {
   "cell_type": "code",
   "execution_count": 4,
   "id": "a54f8468-fd45-4df9-b04b-b69a8f4e9092",
   "metadata": {},
   "outputs": [],
   "source": [
    "raw_df = pd.read_csv('./data/raw.csv')"
   ]
  },
  {
   "cell_type": "code",
   "execution_count": 5,
   "id": "813968b4-3134-4d88-932a-57b5d0f77684",
   "metadata": {},
   "outputs": [
    {
     "data": {
      "text/plain": [
       "180"
      ]
     },
     "execution_count": 5,
     "metadata": {},
     "output_type": "execute_result"
    }
   ],
   "source": [
    "unique_receivers = raw_df.receiver_id.unique()\n",
    "len(unique_receivers)"
   ]
  },
  {
   "cell_type": "code",
   "execution_count": 6,
   "id": "9b5bd801-2450-4cb2-b00f-d5d4e0533f6c",
   "metadata": {},
   "outputs": [
    {
     "data": {
      "text/plain": [
       "1969"
      ]
     },
     "execution_count": 6,
     "metadata": {},
     "output_type": "execute_result"
    }
   ],
   "source": [
    "unique_senders = raw_df.sender_id.unique()\n",
    "len(unique_senders)"
   ]
  },
  {
   "cell_type": "code",
   "execution_count": 7,
   "id": "8e3b6afb-e551-4c4b-a4bf-23c39e05a538",
   "metadata": {},
   "outputs": [
    {
     "data": {
      "text/plain": [
       "77"
      ]
     },
     "execution_count": 7,
     "metadata": {},
     "output_type": "execute_result"
    }
   ],
   "source": [
    "common_organizations = set(raw_df['receiver_id']).intersection(set(raw_df['sender_id']))\n",
    "len(common_organizations)"
   ]
  },
  {
   "cell_type": "code",
   "execution_count": 8,
   "id": "843a2a52-9400-457f-8507-5d4b0fe58f0f",
   "metadata": {},
   "outputs": [
    {
     "data": {
      "text/plain": [
       "2072"
      ]
     },
     "execution_count": 8,
     "metadata": {},
     "output_type": "execute_result"
    }
   ],
   "source": [
    "unique_organizations = set(raw_df['sender_id']).union(set(raw_df['receiver_id']))\n",
    "len(unique_organizations)"
   ]
  },
  {
   "cell_type": "code",
   "execution_count": 9,
   "id": "c1658b77-2877-402c-8c91-a9d5e2e87268",
   "metadata": {},
   "outputs": [],
   "source": [
    "assert len(unique_organizations) == len(unique_receivers) + len(unique_senders) - len(common_organizations)"
   ]
  },
  {
   "cell_type": "code",
   "execution_count": 11,
   "id": "ae2cd0bd-5e35-4ad4-ae31-79606f80ec43",
   "metadata": {},
   "outputs": [],
   "source": [
    "client = ArangoClient(hosts=\"https://2ae4f052d710.arangodb.cloud:8529\")\n",
    "\n",
    "db = client.db('machine_learning', username='lab_test', password='z-rRdN-Enf4qQwybGiVdbG')"
   ]
  },
  {
   "cell_type": "code",
   "execution_count": 12,
   "id": "657db6cb-0c52-4d39-a23f-b67f334bf956",
   "metadata": {},
   "outputs": [],
   "source": [
    "# db.delete_collection('organizations')"
   ]
  },
  {
   "cell_type": "code",
   "execution_count": 13,
   "id": "92239853-d0c5-487b-b81f-bf7cea4eae33",
   "metadata": {},
   "outputs": [],
   "source": [
    "collection_name = 'organizations'\n",
    "\n",
    "if db.has_collection(collection_name):\n",
    "    organizations = db.collection(collection_name)\n",
    "else:\n",
    "    organizations = db.create_collection(collection_name)"
   ]
  },
  {
   "cell_type": "code",
   "execution_count": 14,
   "id": "23bda64c-72f5-4395-b015-c39c06eaa9ae",
   "metadata": {},
   "outputs": [
    {
     "data": {
      "text/plain": [
       "[{'id': '0',\n",
       "  'fields': ['_key'],\n",
       "  'type': 'primary',\n",
       "  'name': 'primary',\n",
       "  'sparse': False,\n",
       "  'unique': True,\n",
       "  'selectivity': 1}]"
      ]
     },
     "execution_count": 14,
     "metadata": {},
     "output_type": "execute_result"
    }
   ],
   "source": [
    "organizations.indexes()"
   ]
  },
  {
   "cell_type": "code",
   "execution_count": 15,
   "id": "de8fdcd7-e2a3-4cc7-8fe5-30129ccc8690",
   "metadata": {},
   "outputs": [
    {
     "data": {
      "text/plain": [
       "True"
      ]
     },
     "execution_count": 15,
     "metadata": {},
     "output_type": "execute_result"
    }
   ],
   "source": [
    "organizations.insert_many([{'_key': _id} for _id in unique_organizations], silent=True)"
   ]
  },
  {
   "cell_type": "code",
   "execution_count": 1,
   "id": "1367fefc-8b2f-4282-994a-45d5eefeb569",
   "metadata": {},
   "outputs": [
    {
     "ename": "NameError",
     "evalue": "name 'unique_organizations' is not defined",
     "output_type": "error",
     "traceback": [
      "\u001b[0;31m---------------------------------------------------------------------------\u001b[0m",
      "\u001b[0;31mNameError\u001b[0m                                 Traceback (most recent call last)",
      "Cell \u001b[0;32mIn[1], line 1\u001b[0m\n\u001b[0;32m----> 1\u001b[0m \u001b[38;5;28mlen\u001b[39m(\u001b[43munique_organizations\u001b[49m)\n",
      "\u001b[0;31mNameError\u001b[0m: name 'unique_organizations' is not defined"
     ]
    }
   ],
   "source": [
    "len(unique_organizations)"
   ]
  },
  {
   "cell_type": "code",
   "execution_count": null,
   "id": "9863836b-90c4-457b-8871-f72564657624",
   "metadata": {},
   "outputs": [],
   "source": []
  }
 ],
 "metadata": {
  "kernelspec": {
   "display_name": "Python 3 (ipykernel)",
   "language": "python",
   "name": "python3"
  },
  "language_info": {
   "codemirror_mode": {
    "name": "ipython",
    "version": 3
   },
   "file_extension": ".py",
   "mimetype": "text/x-python",
   "name": "python",
   "nbconvert_exporter": "python",
   "pygments_lexer": "ipython3",
   "version": "3.11.10"
  }
 },
 "nbformat": 4,
 "nbformat_minor": 5
}

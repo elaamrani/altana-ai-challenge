{
 "cells": [
  {
   "cell_type": "code",
   "execution_count": 2,
   "id": "cd97a0d3-f0ab-4026-a041-23651ba40682",
   "metadata": {},
   "outputs": [],
   "source": [
    "import pandas as pd\n",
    "from arango import ArangoClient"
   ]
  },
  {
   "cell_type": "code",
   "execution_count": 3,
   "id": "b7f45adc-07c7-414a-98fd-7210979d707d",
   "metadata": {},
   "outputs": [],
   "source": [
    "client = ArangoClient(hosts=\"https://2ae4f052d710.arangodb.cloud:8529\")\n",
    "\n",
    "db = client.db('machine_learning', username='lab_test', password='z-rRdN-Enf4qQwybGiVdbG')"
   ]
  },
  {
   "cell_type": "markdown",
   "id": "e9c7ca8b-5b56-4faf-9a14-c85b88dfdd22",
   "metadata": {},
   "source": [
    "## Definition"
   ]
  },
  {
   "cell_type": "code",
   "execution_count": 4,
   "id": "c7ac6b59-e5e4-4476-b432-8a93140b55b5",
   "metadata": {},
   "outputs": [],
   "source": [
    "cursor = db.aql.execute(\n",
    "        '''\n",
    "            FOR transaction in transactions\n",
    "                LET sender_country = DOCUMENT(transaction._from).country_id\n",
    "                LET receiver_country = DOCUMENT(transaction._to).country_id\n",
    "                COLLECT sender = sender_country, receiver = receiver_country into group\n",
    "                RETURN {\n",
    "                    _from: sender,\n",
    "                    _to: receiver,\n",
    "                    count: LENGTH(group),\n",
    "                }\n",
    "        '''\n",
    "    )\n",
    "results = cursor.batch()"
   ]
  },
  {
   "cell_type": "code",
   "execution_count": 4,
   "id": "7929b78a-5860-48db-bc90-deee8b3813c1",
   "metadata": {},
   "outputs": [
    {
     "data": {
      "text/plain": [
       "249"
      ]
     },
     "execution_count": 4,
     "metadata": {},
     "output_type": "execute_result"
    }
   ],
   "source": [
    "if db.has_collection('graph_country_edges'):\n",
    "    db.delete_collection('graph_country_edges')\n",
    "    \n",
    "edges = db.create_collection('graph_country_edges', edge=True)\n",
    "edges.insert_many(results, silent=True)\n",
    "edges.count()"
   ]
  },
  {
   "cell_type": "code",
   "execution_count": 9,
   "id": "239d3b8c-a409-4166-9aae-2e5cd4a8ca39",
   "metadata": {},
   "outputs": [],
   "source": [
    "nodes = db.collection('countries')"
   ]
  },
  {
   "cell_type": "code",
   "execution_count": 10,
   "id": "caad5d99-e9e0-4083-aed7-3df94fcdeff4",
   "metadata": {},
   "outputs": [
    {
     "data": {
      "text/plain": [
       "<EdgeCollection graph_country_edges>"
      ]
     },
     "execution_count": 10,
     "metadata": {},
     "output_type": "execute_result"
    }
   ],
   "source": [
    "if  db.has_graph('graph_country'):\n",
    "    db.delete_graph('graph_country')\n",
    "\n",
    "graph = db.create_graph('graph_country')\n",
    "graph.create_vertex_collection('countries')\n",
    "graph.create_edge_definition(\n",
    "    edge_collection='graph_country_edges',\n",
    "    from_vertex_collections=['countries'],\n",
    "    to_vertex_collections=['countries']\n",
    ")"
   ]
  },
  {
   "cell_type": "markdown",
   "id": "a788c977-6736-464e-8fb9-68d006d1135a",
   "metadata": {},
   "source": [
    "# Centrality"
   ]
  },
  {
   "cell_type": "markdown",
   "id": "b86378b2-1de3-497b-bde5-2048ac90af47",
   "metadata": {},
   "source": [
    "## Degree"
   ]
  },
  {
   "cell_type": "code",
   "execution_count": 11,
   "id": "98299fd3-3a71-4515-9203-378f13413671",
   "metadata": {},
   "outputs": [],
   "source": [
    "degree = db.aql.execute(\"\"\"\n",
    "    FOR v IN countries\n",
    "        LET outbound_degree_centrality = LENGTH(\n",
    "            FOR e IN graph_country_edges\n",
    "                FILTER e._from == v._id\n",
    "                RETURN e\n",
    "        )\n",
    "        LET inbound_degree_centrality = LENGTH(\n",
    "            FOR e IN graph_country_edges\n",
    "                FILTER e._to == v._id\n",
    "                RETURN e\n",
    "        )\n",
    "        \n",
    "        LET total_degree_centrality = outbound_degree_centrality + inbound_degree_centrality\n",
    "\n",
    "        RETURN {\n",
    "            country: v._key,\n",
    "            inbound_degree: inbound_degree_centrality,\n",
    "            outbound_degree: outbound_degree_centrality,\n",
    "            total_degree: total_degree_centrality\n",
    "        }\n",
    "\"\"\").batch()\n",
    "inbound_degree_countries = sorted(degree, key=lambda x: x['inbound_degree'], reverse=True)[:3]\n",
    "outbound_degree_countries = sorted(degree, key=lambda x: x['outbound_degree'], reverse=True)[:3]\n",
    "total_degree_countries = sorted(degree, key=lambda x: x['total_degree'], reverse=True)[:3]"
   ]
  },
  {
   "cell_type": "code",
   "execution_count": 12,
   "id": "15c024e3-e2ef-4982-9284-27f044edef6a",
   "metadata": {},
   "outputs": [
    {
     "data": {
      "text/plain": [
       "[{'country': 'KZ',\n",
       "  'inbound_degree': 60,\n",
       "  'outbound_degree': 3,\n",
       "  'total_degree': 63},\n",
       " {'country': 'IN',\n",
       "  'inbound_degree': 40,\n",
       "  'outbound_degree': 14,\n",
       "  'total_degree': 54},\n",
       " {'country': 'MX',\n",
       "  'inbound_degree': 36,\n",
       "  'outbound_degree': 7,\n",
       "  'total_degree': 43}]"
      ]
     },
     "execution_count": 12,
     "metadata": {},
     "output_type": "execute_result"
    }
   ],
   "source": [
    "inbound_degree_countries"
   ]
  },
  {
   "cell_type": "code",
   "execution_count": 13,
   "id": "b593c0a8-b90a-4721-b0ee-ab7f56a48152",
   "metadata": {},
   "outputs": [
    {
     "data": {
      "text/plain": [
       "[{'country': 'IN',\n",
       "  'inbound_degree': 40,\n",
       "  'outbound_degree': 14,\n",
       "  'total_degree': 54},\n",
       " {'country': 'Other',\n",
       "  'inbound_degree': 26,\n",
       "  'outbound_degree': 13,\n",
       "  'total_degree': 39},\n",
       " {'country': 'US',\n",
       "  'inbound_degree': 34,\n",
       "  'outbound_degree': 11,\n",
       "  'total_degree': 45}]"
      ]
     },
     "execution_count": 13,
     "metadata": {},
     "output_type": "execute_result"
    }
   ],
   "source": [
    "outbound_degree_countries"
   ]
  },
  {
   "cell_type": "code",
   "execution_count": 14,
   "id": "a50a0a22-6f56-463e-b4bb-d74f1fc2f1dd",
   "metadata": {},
   "outputs": [
    {
     "data": {
      "text/plain": [
       "[{'country': 'KZ',\n",
       "  'inbound_degree': 60,\n",
       "  'outbound_degree': 3,\n",
       "  'total_degree': 63},\n",
       " {'country': 'IN',\n",
       "  'inbound_degree': 40,\n",
       "  'outbound_degree': 14,\n",
       "  'total_degree': 54},\n",
       " {'country': 'US',\n",
       "  'inbound_degree': 34,\n",
       "  'outbound_degree': 11,\n",
       "  'total_degree': 45}]"
      ]
     },
     "execution_count": 14,
     "metadata": {},
     "output_type": "execute_result"
    }
   ],
   "source": [
    "total_degree_countries"
   ]
  },
  {
   "cell_type": "markdown",
   "id": "253c9261-4f10-49c0-b972-b9b8fbc8ca65",
   "metadata": {},
   "source": [
    "## Closeness"
   ]
  },
  {
   "cell_type": "code",
   "execution_count": 18,
   "id": "53916efe-e725-47c5-a6b7-faaba935daca",
   "metadata": {},
   "outputs": [
    {
     "data": {
      "text/plain": [
       "[{'_key': 'CN', 'effective_closeness': 3.02},\n",
       " {'_key': 'AE', 'effective_closeness': 2.82},\n",
       " {'_key': 'CH', 'effective_closeness': 2.82}]"
      ]
     },
     "execution_count": 18,
     "metadata": {},
     "output_type": "execute_result"
    }
   ],
   "source": [
    "closeness_job_id = db.pregel.create_job(\n",
    "    graph='graph_country',\n",
    "    algorithm='effectivecloseness',\n",
    "    store=True,\n",
    "    max_gss=None,\n",
    "    thread_count=1,\n",
    "    async_mode=False,\n",
    "    result_field='effective_closeness'\n",
    ")\n",
    "closeness_aql = \"\"\"\n",
    "FOR country IN countries\n",
    "    RETURN {\"_key\": country._key, \"effective_closeness\": ROUND(country.effective_closeness*100)/100}\n",
    "\"\"\"\n",
    "closeness = db.aql.execute(closeness_aql).batch()\n",
    "sorted(closeness, key=lambda x: x['effective_closeness'], reverse=True)[:3]"
   ]
  },
  {
   "cell_type": "markdown",
   "id": "5df4e62d-354e-4c19-9109-b5ca60194a92",
   "metadata": {},
   "source": [
    "## Betweenness"
   ]
  },
  {
   "cell_type": "code",
   "execution_count": 29,
   "id": "a6244603-1133-455b-9a40-7c740677a38d",
   "metadata": {},
   "outputs": [
    {
     "data": {
      "text/plain": [
       "[{'_key': 'KZ', 'linerank': 0.35},\n",
       " {'_key': 'IN', 'linerank': 0.28},\n",
       " {'_key': 'US', 'linerank': 0.22}]"
      ]
     },
     "execution_count": 29,
     "metadata": {},
     "output_type": "execute_result"
    }
   ],
   "source": [
    "betweeness_job_id = db.pregel.create_job(\n",
    "    graph='graph_country',\n",
    "    algorithm='linerank',\n",
    "    store=True,\n",
    "    max_gss=None,\n",
    "    thread_count=1,\n",
    "    async_mode=False,\n",
    "    result_field='line_rank'\n",
    ")\n",
    "betweeness_aql = \"\"\"\n",
    "FOR country IN countries\n",
    "    RETURN {\"_key\": country._key, \"line_rank\": ROUND(country.line_rank*100)/100}\n",
    "\"\"\"\n",
    "betweeness = db.aql.execute(betweeness_aql).batch()\n",
    "sorted(betweeness, key=lambda x: x['line_rank'], reverse=True)[:3]"
   ]
  },
  {
   "cell_type": "markdown",
   "id": "ddd0d116-c42e-468d-b331-923ce93cff48",
   "metadata": {},
   "source": [
    "## Pagerank"
   ]
  },
  {
   "cell_type": "code",
   "execution_count": 32,
   "id": "a07fbfcc-e118-48bb-9355-b8898f9ca724",
   "metadata": {},
   "outputs": [
    {
     "data": {
      "text/plain": [
       "[{'_key': 'KZ', 'page_rank': 0.17},\n",
       " {'_key': 'IN', 'page_rank': 0.12},\n",
       " {'_key': 'US', 'page_rank': 0.09}]"
      ]
     },
     "execution_count": 32,
     "metadata": {},
     "output_type": "execute_result"
    }
   ],
   "source": [
    "pagerank_job_id = db.pregel.create_job(\n",
    "    graph='graph_country',\n",
    "    algorithm='pagerank',\n",
    "    store=True,\n",
    "    max_gss=None,\n",
    "    thread_count=1,\n",
    "    async_mode=False,\n",
    "    result_field='page_rank'\n",
    ")\n",
    "pagerank_aql = \"\"\"\n",
    "FOR country IN countries\n",
    "    RETURN {\"_key\": country._key, \"page_rank\": ROUND(country.page_rank*100)/100}\n",
    "\"\"\"\n",
    "pagerank = db.aql.execute(pagerank_aql).batch()\n",
    "sorted(pagerank, key=lambda x: x['page_rank'], reverse=True)[:3]"
   ]
  },
  {
   "cell_type": "code",
   "execution_count": null,
   "id": "3decf67e-06f6-4fdf-aae3-39be2143228e",
   "metadata": {},
   "outputs": [],
   "source": []
  }
 ],
 "metadata": {
  "kernelspec": {
   "display_name": "Python 3 (ipykernel)",
   "language": "python",
   "name": "python3"
  },
  "language_info": {
   "codemirror_mode": {
    "name": "ipython",
    "version": 3
   },
   "file_extension": ".py",
   "mimetype": "text/x-python",
   "name": "python",
   "nbconvert_exporter": "python",
   "pygments_lexer": "ipython3",
   "version": "3.11.10"
  }
 },
 "nbformat": 4,
 "nbformat_minor": 5
}

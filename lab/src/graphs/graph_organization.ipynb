{
 "cells": [
  {
   "cell_type": "code",
   "execution_count": 1,
   "id": "cd97a0d3-f0ab-4026-a041-23651ba40682",
   "metadata": {},
   "outputs": [],
   "source": [
    "import pandas as pd\n",
    "from collections import deque\n",
    "from arango import ArangoClient"
   ]
  },
  {
   "cell_type": "code",
   "execution_count": 2,
   "id": "b7f45adc-07c7-414a-98fd-7210979d707d",
   "metadata": {},
   "outputs": [],
   "source": [
    "client = ArangoClient(hosts=\"https://2ae4f052d710.arangodb.cloud:8529\")\n",
    "\n",
    "db = client.db('machine_learning', username='lab_test', password='z-rRdN-Enf4qQwybGiVdbG')"
   ]
  },
  {
   "cell_type": "markdown",
   "id": "e9c7ca8b-5b56-4faf-9a14-c85b88dfdd22",
   "metadata": {},
   "source": [
    "## Definition"
   ]
  },
  {
   "cell_type": "code",
   "execution_count": 5,
   "id": "c7ac6b59-e5e4-4476-b432-8a93140b55b5",
   "metadata": {},
   "outputs": [],
   "source": [
    "cursor = db.aql.execute(\n",
    "        '''\n",
    "            FOR transaction in transactions\n",
    "                LET sender_organization = DOCUMENT(transaction._from).organization_id\n",
    "                LET receiver_organization = DOCUMENT(transaction._to).organization_id\n",
    "                COLLECT sender = sender_organization, receiver = receiver_organization into group\n",
    "                RETURN {\n",
    "                    _from: sender,\n",
    "                    _to: receiver,\n",
    "                    count: LENGTH(group),\n",
    "                }\n",
    "        '''\n",
    "    )\n",
    "results = []\n",
    "for doc in cursor:\n",
    "    results.append(doc)"
   ]
  },
  {
   "cell_type": "code",
   "execution_count": 19,
   "id": "7929b78a-5860-48db-bc90-deee8b3813c1",
   "metadata": {},
   "outputs": [
    {
     "data": {
      "text/plain": [
       "2106"
      ]
     },
     "execution_count": 19,
     "metadata": {},
     "output_type": "execute_result"
    }
   ],
   "source": [
    "if db.has_collection('graph_organization_edges'):\n",
    "    db.delete_collection('graph_organization_edges')\n",
    "    \n",
    "edges = db.create_collection('graph_organization_edges', edge=True)\n",
    "edges.insert_many(results, silent=False)\n",
    "edges.count()"
   ]
  },
  {
   "cell_type": "code",
   "execution_count": 22,
   "id": "239d3b8c-a409-4166-9aae-2e5cd4a8ca39",
   "metadata": {},
   "outputs": [],
   "source": [
    "nodes = db.collection('organizations')"
   ]
  },
  {
   "cell_type": "code",
   "execution_count": 23,
   "id": "caad5d99-e9e0-4083-aed7-3df94fcdeff4",
   "metadata": {},
   "outputs": [
    {
     "data": {
      "text/plain": [
       "<EdgeCollection graph_organization_edges>"
      ]
     },
     "execution_count": 23,
     "metadata": {},
     "output_type": "execute_result"
    }
   ],
   "source": [
    "if  db.has_graph('graph_organization'):\n",
    "    db.delete_graph('graph_organization')\n",
    "\n",
    "graph = db.create_graph('graph_organization')\n",
    "graph.create_vertex_collection('organizations')\n",
    "graph.create_edge_definition(\n",
    "    edge_collection='graph_organization_edges',\n",
    "    from_vertex_collections=['organizations'],\n",
    "    to_vertex_collections=['organizations']\n",
    ")"
   ]
  },
  {
   "cell_type": "markdown",
   "id": "a788c977-6736-464e-8fb9-68d006d1135a",
   "metadata": {},
   "source": [
    "# Centrality"
   ]
  },
  {
   "cell_type": "markdown",
   "id": "b86378b2-1de3-497b-bde5-2048ac90af47",
   "metadata": {},
   "source": [
    "## Degree"
   ]
  },
  {
   "cell_type": "code",
   "execution_count": 24,
   "id": "98299fd3-3a71-4515-9203-378f13413671",
   "metadata": {},
   "outputs": [],
   "source": [
    "degree_cursor = db.aql.execute(\"\"\"\n",
    "    FOR v IN organizations\n",
    "        LET outbound_degree_centrality = LENGTH(\n",
    "            FOR e IN graph_organization_edges\n",
    "                FILTER e._from == v._id\n",
    "                RETURN e\n",
    "        )\n",
    "        LET inbound_degree_centrality = LENGTH(\n",
    "            FOR e IN graph_organization_edges\n",
    "                FILTER e._to == v._id\n",
    "                RETURN e\n",
    "        )\n",
    "        \n",
    "        LET total_degree_centrality = outbound_degree_centrality + inbound_degree_centrality\n",
    "\n",
    "        RETURN {\n",
    "            organization: v._key,\n",
    "            name: v.name,\n",
    "            inbound_degree: inbound_degree_centrality,\n",
    "            outbound_degree: outbound_degree_centrality,\n",
    "            total_degree: total_degree_centrality\n",
    "        }\n",
    "\"\"\")\n",
    "degree = []\n",
    "for doc in degree_cursor:\n",
    "    degree.append(doc)\n",
    "inbound_degree_organizations = sorted(degree, key=lambda x: x['inbound_degree'], reverse=True)[:3]\n",
    "outbound_degree_organizations = sorted(degree, key=lambda x: x['outbound_degree'], reverse=True)[:3]\n",
    "total_degree_organizations = sorted(degree, key=lambda x: x['total_degree'], reverse=True)[:3]"
   ]
  },
  {
   "cell_type": "code",
   "execution_count": 25,
   "id": "15c024e3-e2ef-4982-9284-27f044edef6a",
   "metadata": {},
   "outputs": [
    {
     "data": {
      "text/plain": [
       "[{'organization': '66ebf2a3aa71c90b4df3fc93590e22db',\n",
       "  'name': 'Tengizchevroil Llp',\n",
       "  'inbound_degree': 845,\n",
       "  'outbound_degree': 1,\n",
       "  'total_degree': 846},\n",
       " {'organization': '4174ce1ae09c87cce8a4accaf940bc58',\n",
       "  'name': 'Avery Dennison Converted Products De Mexico Sa De Cv',\n",
       "  'inbound_degree': 135,\n",
       "  'outbound_degree': 2,\n",
       "  'total_degree': 137},\n",
       " {'organization': 'ed46d890f9c84ab5a1c90e01a760cfdc',\n",
       "  'name': 'Contitech Fluid Mexicana Servicios, S.A. de C.V.',\n",
       "  'inbound_degree': 117,\n",
       "  'outbound_degree': 2,\n",
       "  'total_degree': 119}]"
      ]
     },
     "execution_count": 25,
     "metadata": {},
     "output_type": "execute_result"
    }
   ],
   "source": [
    "inbound_degree_organizations"
   ]
  },
  {
   "cell_type": "code",
   "execution_count": 26,
   "id": "b593c0a8-b90a-4721-b0ee-ab7f56a48152",
   "metadata": {},
   "outputs": [
    {
     "data": {
      "text/plain": [
       "[{'organization': '1949468c1d7790b0f6db42511069ee7f',\n",
       "  'name': 'ALTECO TECHNIK GMBH',\n",
       "  'inbound_degree': 0,\n",
       "  'outbound_degree': 5,\n",
       "  'total_degree': 5},\n",
       " {'organization': '831a31a1466f0ace3eb20b52d4575f92',\n",
       "  'name': 'Carboline (India) Private Limited',\n",
       "  'inbound_degree': 4,\n",
       "  'outbound_degree': 5,\n",
       "  'total_degree': 9},\n",
       " {'organization': 'f4864ac3d5d716cc586d60afe8a403ef',\n",
       "  'name': 'TREMCO CPG INDIA PRIVATE LIMITED',\n",
       "  'inbound_degree': 5,\n",
       "  'outbound_degree': 5,\n",
       "  'total_degree': 10}]"
      ]
     },
     "execution_count": 26,
     "metadata": {},
     "output_type": "execute_result"
    }
   ],
   "source": [
    "outbound_degree_organizations"
   ]
  },
  {
   "cell_type": "code",
   "execution_count": 27,
   "id": "a50a0a22-6f56-463e-b4bb-d74f1fc2f1dd",
   "metadata": {},
   "outputs": [
    {
     "data": {
      "text/plain": [
       "[{'organization': '66ebf2a3aa71c90b4df3fc93590e22db',\n",
       "  'name': 'Tengizchevroil Llp',\n",
       "  'inbound_degree': 845,\n",
       "  'outbound_degree': 1,\n",
       "  'total_degree': 846},\n",
       " {'organization': '4174ce1ae09c87cce8a4accaf940bc58',\n",
       "  'name': 'Avery Dennison Converted Products De Mexico Sa De Cv',\n",
       "  'inbound_degree': 135,\n",
       "  'outbound_degree': 2,\n",
       "  'total_degree': 137},\n",
       " {'organization': 'ed46d890f9c84ab5a1c90e01a760cfdc',\n",
       "  'name': 'Contitech Fluid Mexicana Servicios, S.A. de C.V.',\n",
       "  'inbound_degree': 117,\n",
       "  'outbound_degree': 2,\n",
       "  'total_degree': 119}]"
      ]
     },
     "execution_count": 27,
     "metadata": {},
     "output_type": "execute_result"
    }
   ],
   "source": [
    "total_degree_organizations"
   ]
  },
  {
   "cell_type": "markdown",
   "id": "253c9261-4f10-49c0-b972-b9b8fbc8ca65",
   "metadata": {},
   "source": [
    "## Closeness"
   ]
  },
  {
   "cell_type": "code",
   "execution_count": 31,
   "id": "53916efe-e725-47c5-a6b7-faaba935daca",
   "metadata": {},
   "outputs": [
    {
     "data": {
      "text/plain": [
       "[{'_key': '0f6bb7bf3256bffac6eb50bf549b2752',\n",
       "  'name': 'Ad Fire Protection Systems Corp',\n",
       "  'effective_closeness': 6.06},\n",
       " {'_key': '4bdea5a3d7e97a8efd8d586e7f682924',\n",
       "  'name': 'GST970206G13 GRUPO STONCOR SA DE CV',\n",
       "  'effective_closeness': 5.09},\n",
       " {'_key': '36d6acce681cb79780c2ccefdb9b2466',\n",
       "  'name': 'Carboline Company',\n",
       "  'effective_closeness': 4.11}]"
      ]
     },
     "execution_count": 31,
     "metadata": {},
     "output_type": "execute_result"
    }
   ],
   "source": [
    "closeness_job_id = db.pregel.create_job(\n",
    "    graph='graph_organization',\n",
    "    algorithm='effectivecloseness',\n",
    "    store=True,\n",
    "    max_gss=None,\n",
    "    thread_count=1,\n",
    "    async_mode=False,\n",
    "    result_field='effective_closeness'\n",
    ")\n",
    "closeness_aql = \"\"\"\n",
    "FOR organization IN organizations\n",
    "    RETURN {\"_key\": organization._key, \"name\": organization.name, \"effective_closeness\": ROUND(organization.effective_closeness*100)/100}\n",
    "\"\"\"\n",
    "closeness = []\n",
    "for doc in db.aql.execute(closeness_aql):\n",
    "    closeness.append(doc)\n",
    "sorted(closeness, key=lambda x: x['effective_closeness'], reverse=True)[:3]"
   ]
  },
  {
   "cell_type": "markdown",
   "id": "5df4e62d-354e-4c19-9109-b5ca60194a92",
   "metadata": {},
   "source": [
    "## Betweenness"
   ]
  },
  {
   "cell_type": "code",
   "execution_count": 32,
   "id": "a6244603-1133-455b-9a40-7c740677a38d",
   "metadata": {},
   "outputs": [
    {
     "data": {
      "text/plain": [
       "[{'_key': '66ebf2a3aa71c90b4df3fc93590e22db',\n",
       "  'name': 'Tengizchevroil Llp',\n",
       "  'line_rank': 0.11},\n",
       " {'_key': '48541ba40bcab069aa5d91c12a5299d0',\n",
       "  'name': 'Stoncor Benelux B.V.',\n",
       "  'line_rank': 0.05},\n",
       " {'_key': '4174ce1ae09c87cce8a4accaf940bc58',\n",
       "  'name': 'Avery Dennison Converted Products De Mexico Sa De Cv',\n",
       "  'line_rank': 0.02}]"
      ]
     },
     "execution_count": 32,
     "metadata": {},
     "output_type": "execute_result"
    }
   ],
   "source": [
    "betweeness_job_id = db.pregel.create_job(\n",
    "    graph='graph_organization',\n",
    "    algorithm='linerank',\n",
    "    store=True,\n",
    "    max_gss=None,\n",
    "    thread_count=1,\n",
    "    async_mode=False,\n",
    "    result_field='line_rank'\n",
    ")\n",
    "betweeness_aql = \"\"\"\n",
    "FOR organization IN organizations\n",
    "    RETURN {\"_key\": organization._key, \"name\": organization.name, \"line_rank\": ROUND(organization.line_rank*100)/100}\n",
    "\"\"\"\n",
    "betweeness = []\n",
    "for doc in db.aql.execute(betweeness_aql):\n",
    "    betweeness.append(doc)\n",
    "sorted(betweeness, key=lambda x: x['line_rank'], reverse=True)[:3]"
   ]
  },
  {
   "cell_type": "markdown",
   "id": "ddd0d116-c42e-468d-b331-923ce93cff48",
   "metadata": {},
   "source": [
    "## Pagerank"
   ]
  },
  {
   "cell_type": "code",
   "execution_count": 33,
   "id": "a07fbfcc-e118-48bb-9355-b8898f9ca724",
   "metadata": {},
   "outputs": [
    {
     "data": {
      "text/plain": [
       "[{'_key': '66ebf2a3aa71c90b4df3fc93590e22db',\n",
       "  'name': 'Tengizchevroil Llp',\n",
       "  'page_rank': 0.052},\n",
       " {'_key': '48541ba40bcab069aa5d91c12a5299d0',\n",
       "  'name': 'Stoncor Benelux B.V.',\n",
       "  'page_rank': 0.044},\n",
       " {'_key': '4174ce1ae09c87cce8a4accaf940bc58',\n",
       "  'name': 'Avery Dennison Converted Products De Mexico Sa De Cv',\n",
       "  'page_rank': 0.008}]"
      ]
     },
     "execution_count": 33,
     "metadata": {},
     "output_type": "execute_result"
    }
   ],
   "source": [
    "pagerank_job_id = db.pregel.create_job(\n",
    "    graph='graph_organization',\n",
    "    algorithm='pagerank',\n",
    "    store=True,\n",
    "    max_gss=None,\n",
    "    thread_count=1,\n",
    "    async_mode=False,\n",
    "    result_field='page_rank'\n",
    ")\n",
    "pagerank_aql = \"\"\"\n",
    "FOR organization IN organizations\n",
    "    RETURN {\"_key\": organization._key, \"name\": organization.name, \"page_rank\": ROUND(organization.page_rank*1000)/1000}\n",
    "\"\"\"\n",
    "pagerank = []\n",
    "for doc in db.aql.execute(pagerank_aql):\n",
    "    pagerank.append(doc)\n",
    "sorted(pagerank, key=lambda x: x['page_rank'], reverse=True)[:3]"
   ]
  },
  {
   "cell_type": "code",
   "execution_count": null,
   "id": "81bddb3f-24ba-4ddb-8f0c-95e9d629ea05",
   "metadata": {},
   "outputs": [],
   "source": []
  }
 ],
 "metadata": {
  "kernelspec": {
   "display_name": "Python 3 (ipykernel)",
   "language": "python",
   "name": "python3"
  },
  "language_info": {
   "codemirror_mode": {
    "name": "ipython",
    "version": 3
   },
   "file_extension": ".py",
   "mimetype": "text/x-python",
   "name": "python",
   "nbconvert_exporter": "python",
   "pygments_lexer": "ipython3",
   "version": "3.11.10"
  }
 },
 "nbformat": 4,
 "nbformat_minor": 5
}

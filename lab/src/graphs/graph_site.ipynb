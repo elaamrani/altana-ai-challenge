{
 "cells": [
  {
   "cell_type": "code",
   "execution_count": 46,
   "id": "cd97a0d3-f0ab-4026-a041-23651ba40682",
   "metadata": {},
   "outputs": [],
   "source": [
    "import pandas as pd\n",
    "from collections import deque\n",
    "from arango import ArangoClient"
   ]
  },
  {
   "cell_type": "code",
   "execution_count": 2,
   "id": "b7f45adc-07c7-414a-98fd-7210979d707d",
   "metadata": {},
   "outputs": [],
   "source": [
    "client = ArangoClient(hosts=\"https://2ae4f052d710.arangodb.cloud:8529\")\n",
    "\n",
    "db = client.db('machine_learning', username='lab_test', password='z-rRdN-Enf4qQwybGiVdbG')"
   ]
  },
  {
   "cell_type": "markdown",
   "id": "e9c7ca8b-5b56-4faf-9a14-c85b88dfdd22",
   "metadata": {},
   "source": [
    "## Definition"
   ]
  },
  {
   "cell_type": "code",
   "execution_count": 4,
   "id": "39757a2d-b8c7-41cf-bdf1-903cb20f4ae4",
   "metadata": {},
   "outputs": [],
   "source": [
    "processed_df = pd.read_csv('../data/processed.csv')"
   ]
  },
  {
   "cell_type": "code",
   "execution_count": 5,
   "id": "4ed085c5-6957-4627-9ea0-561f43a574d2",
   "metadata": {},
   "outputs": [
    {
     "data": {
      "text/plain": [
       "sender_site_id                    receiver_site_id                \n",
       "00324dd016fb46109856afbb202d64ba  66dfa5395cf740d3970d4d0bc660058e     2\n",
       "00822da93b50457fbd0f92ca112990e2  a4c503f2dd924587a34e8c6adedde6ba     4\n",
       "008cf3bb6ce6426bbe8379978efabda3  90c753ee53ba463d9b3fd5a270837ede     7\n",
       "00ccf9b594344c5c9de4adbefa907d51  90c753ee53ba463d9b3fd5a270837ede    10\n",
       "00d4cd3f9c9e467b906b42e88db3bcbd  3b34b76e83354031ae39ae3c5336c510    18\n",
       "                                                                      ..\n",
       "ffa97e34eeaf47e89e1f9898950ea8ab  d007210609e348228faefaceb79aa442     5\n",
       "ffdc58a45fe540359a6f2f71c4523eaf  65b624d3dbd0449497ada46c99d3d06b     2\n",
       "ffe42639b8f74ef299f9b81936f1f565  408ac5662a9d4a92a661383be2c0ee92     3\n",
       "                                  a579f131d69d4f10988a8d8e4a1bdaee    12\n",
       "fff5817df2494088b74fbe59984732a7  3b34b76e83354031ae39ae3c5336c510     8\n",
       "Length: 2194, dtype: int64"
      ]
     },
     "execution_count": 5,
     "metadata": {},
     "output_type": "execute_result"
    }
   ],
   "source": [
    "processed_df.groupby(['sender_site_id', 'receiver_site_id']).size()"
   ]
  },
  {
   "cell_type": "code",
   "execution_count": 14,
   "id": "c7ac6b59-e5e4-4476-b432-8a93140b55b5",
   "metadata": {},
   "outputs": [],
   "source": [
    "cursor = db.aql.execute(\n",
    "        '''\n",
    "            FOR transaction in transactions\n",
    "                LET sender_site = DOCUMENT(transaction._from)._id\n",
    "                LET receiver_site = DOCUMENT(transaction._to)._id\n",
    "                COLLECT sender = sender_site, receiver = receiver_site into group\n",
    "                RETURN {\n",
    "                    _from: sender,\n",
    "                    _to: receiver,\n",
    "                    count: LENGTH(group),\n",
    "                }\n",
    "        '''\n",
    "    )\n",
    "results = []\n",
    "for doc in cursor:\n",
    "    results.append(doc)"
   ]
  },
  {
   "cell_type": "code",
   "execution_count": 37,
   "id": "7929b78a-5860-48db-bc90-deee8b3813c1",
   "metadata": {},
   "outputs": [
    {
     "data": {
      "text/plain": [
       "2194"
      ]
     },
     "execution_count": 37,
     "metadata": {},
     "output_type": "execute_result"
    }
   ],
   "source": [
    "if db.has_collection('graph_site_edges'):\n",
    "    db.delete_collection('graph_site_edges')\n",
    "    \n",
    "edges = db.create_collection('graph_site_edges', edge=True)\n",
    "edges.insert_many(results, silent=False)\n",
    "edges.count()"
   ]
  },
  {
   "cell_type": "code",
   "execution_count": 9,
   "id": "239d3b8c-a409-4166-9aae-2e5cd4a8ca39",
   "metadata": {},
   "outputs": [],
   "source": [
    "nodes = db.collection('sites')"
   ]
  },
  {
   "cell_type": "code",
   "execution_count": 17,
   "id": "caad5d99-e9e0-4083-aed7-3df94fcdeff4",
   "metadata": {},
   "outputs": [
    {
     "data": {
      "text/plain": [
       "<EdgeCollection graph_site_edges>"
      ]
     },
     "execution_count": 17,
     "metadata": {},
     "output_type": "execute_result"
    }
   ],
   "source": [
    "if  db.has_graph('graph_site'):\n",
    "    db.delete_graph('graph_site')\n",
    "\n",
    "graph = db.create_graph('graph_site')\n",
    "graph.create_vertex_collection('sites')\n",
    "graph.create_edge_definition(\n",
    "    edge_collection='graph_site_edges',\n",
    "    from_vertex_collections=['sites'],\n",
    "    to_vertex_collections=['sites']\n",
    ")"
   ]
  },
  {
   "cell_type": "markdown",
   "id": "a788c977-6736-464e-8fb9-68d006d1135a",
   "metadata": {},
   "source": [
    "# Centrality"
   ]
  },
  {
   "cell_type": "markdown",
   "id": "b86378b2-1de3-497b-bde5-2048ac90af47",
   "metadata": {},
   "source": [
    "## Degree"
   ]
  },
  {
   "cell_type": "code",
   "execution_count": 32,
   "id": "98299fd3-3a71-4515-9203-378f13413671",
   "metadata": {},
   "outputs": [],
   "source": [
    "degree_cursor = db.aql.execute(\"\"\"\n",
    "    FOR v IN sites\n",
    "        LET outbound_degree_centrality = LENGTH(\n",
    "            FOR e IN graph_site_edges\n",
    "                FILTER e._from == v._id\n",
    "                RETURN e\n",
    "        )\n",
    "        LET inbound_degree_centrality = LENGTH(\n",
    "            FOR e IN graph_site_edges\n",
    "                FILTER e._to == v._id\n",
    "                RETURN e\n",
    "        )\n",
    "        \n",
    "        LET total_degree_centrality = outbound_degree_centrality + inbound_degree_centrality\n",
    "\n",
    "        RETURN {\n",
    "            site: v._key,\n",
    "            name: DOCUMENT(v.organization_id).name,\n",
    "            country: v.country_id,\n",
    "            inbound_degree: inbound_degree_centrality,\n",
    "            outbound_degree: outbound_degree_centrality,\n",
    "            total_degree: total_degree_centrality\n",
    "        }\n",
    "\"\"\")\n",
    "degree = []\n",
    "for doc in degree_cursor:\n",
    "    degree.append(doc)\n",
    "inbound_degree_sites = sorted(degree, key=lambda x: x['inbound_degree'], reverse=True)[:3]\n",
    "outbound_degree_sites = sorted(degree, key=lambda x: x['outbound_degree'], reverse=True)[:3]\n",
    "total_degree_sites = sorted(degree, key=lambda x: x['total_degree'], reverse=True)[:3]"
   ]
  },
  {
   "cell_type": "code",
   "execution_count": 33,
   "id": "15c024e3-e2ef-4982-9284-27f044edef6a",
   "metadata": {},
   "outputs": [
    {
     "data": {
      "text/plain": [
       "[{'site': '3b34b76e83354031ae39ae3c5336c510',\n",
       "  'name': 'Tengizchevroil Llp',\n",
       "  'country': 'countries/KZ',\n",
       "  'inbound_degree': 876,\n",
       "  'outbound_degree': 1,\n",
       "  'total_degree': 877},\n",
       " {'site': '5a2b9e85170549958bbf20794af54538',\n",
       "  'name': 'Avery Dennison Converted Products De Mexico Sa De Cv',\n",
       "  'country': 'countries/MX',\n",
       "  'inbound_degree': 144,\n",
       "  'outbound_degree': 2,\n",
       "  'total_degree': 146},\n",
       " {'site': '90c753ee53ba463d9b3fd5a270837ede',\n",
       "  'name': 'Contitech Fluid Mexicana Servicios, S.A. de C.V.',\n",
       "  'country': 'countries/MX',\n",
       "  'inbound_degree': 119,\n",
       "  'outbound_degree': 2,\n",
       "  'total_degree': 121}]"
      ]
     },
     "execution_count": 33,
     "metadata": {},
     "output_type": "execute_result"
    }
   ],
   "source": [
    "inbound_degree_sites"
   ]
  },
  {
   "cell_type": "code",
   "execution_count": 34,
   "id": "b593c0a8-b90a-4721-b0ee-ab7f56a48152",
   "metadata": {},
   "outputs": [
    {
     "data": {
      "text/plain": [
       "[{'site': '8659f74cc67d4c53b80693eaae86c6f1',\n",
       "  'name': 'Carboline (India) Private Limited',\n",
       "  'country': 'countries/Other',\n",
       "  'inbound_degree': 1,\n",
       "  'outbound_degree': 5,\n",
       "  'total_degree': 6},\n",
       " {'site': '52b076a7d8c74afaabba4f40af58bf0e',\n",
       "  'name': 'TREMCO CPG INDIA PRIVATE LIMITED',\n",
       "  'country': 'countries/IN',\n",
       "  'inbound_degree': 5,\n",
       "  'outbound_degree': 5,\n",
       "  'total_degree': 10},\n",
       " {'site': '957c9d5b9d77462abd1c7503be536d6a',\n",
       "  'name': 'Toxement S A',\n",
       "  'country': 'countries/FR',\n",
       "  'inbound_degree': 0,\n",
       "  'outbound_degree': 5,\n",
       "  'total_degree': 5}]"
      ]
     },
     "execution_count": 34,
     "metadata": {},
     "output_type": "execute_result"
    }
   ],
   "source": [
    "outbound_degree_sites"
   ]
  },
  {
   "cell_type": "code",
   "execution_count": 25,
   "id": "a50a0a22-6f56-463e-b4bb-d74f1fc2f1dd",
   "metadata": {},
   "outputs": [
    {
     "data": {
      "text/plain": [
       "[{'site': '3b34b76e83354031ae39ae3c5336c510',\n",
       "  'name': 'Tengizchevroil Llp',\n",
       "  'country': 'countries/KZ',\n",
       "  'inbound_degree': 876,\n",
       "  'outbound_degree': 1,\n",
       "  'total_degree': 877},\n",
       " {'site': '5a2b9e85170549958bbf20794af54538',\n",
       "  'name': 'Avery Dennison Converted Products De Mexico Sa De Cv',\n",
       "  'country': 'countries/MX',\n",
       "  'inbound_degree': 144,\n",
       "  'outbound_degree': 2,\n",
       "  'total_degree': 146},\n",
       " {'site': '90c753ee53ba463d9b3fd5a270837ede',\n",
       "  'name': 'Contitech Fluid Mexicana Servicios, S.A. de C.V.',\n",
       "  'country': 'countries/MX',\n",
       "  'inbound_degree': 119,\n",
       "  'outbound_degree': 2,\n",
       "  'total_degree': 121}]"
      ]
     },
     "execution_count": 25,
     "metadata": {},
     "output_type": "execute_result"
    }
   ],
   "source": [
    "total_degree_sites"
   ]
  },
  {
   "cell_type": "markdown",
   "id": "253c9261-4f10-49c0-b972-b9b8fbc8ca65",
   "metadata": {},
   "source": [
    "## Closeness"
   ]
  },
  {
   "cell_type": "code",
   "execution_count": 44,
   "id": "53916efe-e725-47c5-a6b7-faaba935daca",
   "metadata": {},
   "outputs": [
    {
     "data": {
      "text/plain": [
       "[{'_key': 'e0befcb8ac4547b1931dde4835e8d067',\n",
       "  'name': 'Ad Fire Protection Systems Corp',\n",
       "  'country': 'countries/US',\n",
       "  'effective_closeness': 5.8},\n",
       " {'_key': '9f2ef6675ac94678831705aa3d99c9a9',\n",
       "  'name': 'GST970206G13 GRUPO STONCOR SA DE CV',\n",
       "  'country': 'countries/MX',\n",
       "  'effective_closeness': 4.85},\n",
       " {'_key': '5535b447437d4118a7a1eca99563bfb9',\n",
       "  'name': 'Carboline Company',\n",
       "  'country': 'countries/US',\n",
       "  'effective_closeness': 3.88}]"
      ]
     },
     "execution_count": 44,
     "metadata": {},
     "output_type": "execute_result"
    }
   ],
   "source": [
    "closeness_job_id = db.pregel.create_job(\n",
    "    graph='graph_site',\n",
    "    algorithm='effectivecloseness',\n",
    "    store=True,\n",
    "    max_gss=None,\n",
    "    thread_count=1,\n",
    "    async_mode=False,\n",
    "    result_field='effective_closeness'\n",
    ")\n",
    "closeness_aql = \"\"\"\n",
    "FOR site IN sites\n",
    "    RETURN {\"_key\": site._key, \"name\": DOCUMENT(site.organization_id).name, \"country\": site.country_id, \"effective_closeness\": ROUND(site.effective_closeness*100)/100}\n",
    "\"\"\"\n",
    "closeness = []\n",
    "for doc in db.aql.execute(closeness_aql):\n",
    "    closeness.append(doc)\n",
    "sorted(closeness, key=lambda x: x['effective_closeness'], reverse=True)[:3]"
   ]
  },
  {
   "cell_type": "markdown",
   "id": "5df4e62d-354e-4c19-9109-b5ca60194a92",
   "metadata": {},
   "source": [
    "## Betweenness"
   ]
  },
  {
   "cell_type": "code",
   "execution_count": 45,
   "id": "a6244603-1133-455b-9a40-7c740677a38d",
   "metadata": {},
   "outputs": [
    {
     "data": {
      "text/plain": [
       "[{'_key': '3b34b76e83354031ae39ae3c5336c510',\n",
       "  'name': 'Tengizchevroil Llp',\n",
       "  'country': 'countries/KZ',\n",
       "  'line_rank': 0.11},\n",
       " {'_key': 'f0136a3c7b4a4fd5bf89b57776f62d1a',\n",
       "  'name': 'Stoncor Benelux B.V.',\n",
       "  'country': 'countries/NL',\n",
       "  'line_rank': 0.05},\n",
       " {'_key': '90c753ee53ba463d9b3fd5a270837ede',\n",
       "  'name': 'Contitech Fluid Mexicana Servicios, S.A. de C.V.',\n",
       "  'country': 'countries/MX',\n",
       "  'line_rank': 0.02}]"
      ]
     },
     "execution_count": 45,
     "metadata": {},
     "output_type": "execute_result"
    }
   ],
   "source": [
    "betweeness_job_id = db.pregel.create_job(\n",
    "    graph='graph_site',\n",
    "    algorithm='linerank',\n",
    "    store=True,\n",
    "    max_gss=None,\n",
    "    thread_count=1,\n",
    "    async_mode=False,\n",
    "    result_field='line_rank'\n",
    ")\n",
    "betweeness_aql = \"\"\"\n",
    "FOR site IN sites\n",
    "    RETURN {\"_key\": site._key, \"name\": DOCUMENT(site.organization_id).name, \"country\": site.country_id, \"line_rank\": ROUND(site.line_rank*100)/100}\n",
    "\"\"\"\n",
    "betweeness = []\n",
    "for doc in db.aql.execute(betweeness_aql):\n",
    "    betweeness.append(doc)\n",
    "sorted(betweeness, key=lambda x: x['line_rank'], reverse=True)[:3]"
   ]
  },
  {
   "cell_type": "markdown",
   "id": "ddd0d116-c42e-468d-b331-923ce93cff48",
   "metadata": {},
   "source": [
    "## Pagerank"
   ]
  },
  {
   "cell_type": "code",
   "execution_count": 41,
   "id": "a07fbfcc-e118-48bb-9355-b8898f9ca724",
   "metadata": {},
   "outputs": [
    {
     "data": {
      "text/plain": [
       "[{'_key': '3b34b76e83354031ae39ae3c5336c510', 'page_rank': 0.052},\n",
       " {'_key': 'f0136a3c7b4a4fd5bf89b57776f62d1a', 'page_rank': 0.044},\n",
       " {'_key': '5a2b9e85170549958bbf20794af54538', 'page_rank': 0.009}]"
      ]
     },
     "execution_count": 41,
     "metadata": {},
     "output_type": "execute_result"
    }
   ],
   "source": [
    "pagerank_job_id = db.pregel.create_job(\n",
    "    graph='graph_site',\n",
    "    algorithm='pagerank',\n",
    "    store=True,\n",
    "    max_gss=None,\n",
    "    thread_count=1,\n",
    "    async_mode=False,\n",
    "    result_field='page_rank'\n",
    ")\n",
    "pagerank_aql = \"\"\"\n",
    "FOR site IN sites\n",
    "    RETURN {\"_key\": site._key, \"name\": DOCUMENT(site.organization_id).name, \"country\": site.country_id, \"page_rank\": ROUND(site.page_rank*1000)/1000}\n",
    "\"\"\"\n",
    "pagerank = []\n",
    "for doc in db.aql.execute(pagerank_aql):\n",
    "    pagerank.append(doc)\n",
    "sorted(pagerank, key=lambda x: x['page_rank'], reverse=True)[:3]"
   ]
  },
  {
   "cell_type": "code",
   "execution_count": null,
   "id": "81bddb3f-24ba-4ddb-8f0c-95e9d629ea05",
   "metadata": {},
   "outputs": [],
   "source": []
  }
 ],
 "metadata": {
  "kernelspec": {
   "display_name": "Python 3 (ipykernel)",
   "language": "python",
   "name": "python3"
  },
  "language_info": {
   "codemirror_mode": {
    "name": "ipython",
    "version": 3
   },
   "file_extension": ".py",
   "mimetype": "text/x-python",
   "name": "python",
   "nbconvert_exporter": "python",
   "pygments_lexer": "ipython3",
   "version": "3.11.10"
  }
 },
 "nbformat": 4,
 "nbformat_minor": 5
}

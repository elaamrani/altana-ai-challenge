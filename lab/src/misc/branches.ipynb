{
 "cells": [
  {
   "cell_type": "code",
   "execution_count": 1,
   "id": "55f8c545-0f1d-4b10-8ec2-58aa037b2620",
   "metadata": {},
   "outputs": [],
   "source": [
    "import pandas as pd\n",
    "from transformers import AutoTokenizer, AutoModel\n",
    "import torch\n",
    "# from sentence_transformers import SentenceTransformer, util"
   ]
  },
  {
   "cell_type": "code",
   "execution_count": 3,
   "id": "70ae1a93-e452-4bf7-b75d-7c067cb212fa",
   "metadata": {},
   "outputs": [],
   "source": [
    "raw_df = pd.read_csv('./data/raw.csv')"
   ]
  },
  {
   "cell_type": "code",
   "execution_count": 4,
   "id": "8b9e0cc4-5ee4-4c4a-94ec-11c900d5c8f1",
   "metadata": {},
   "outputs": [],
   "source": [
    "sender_df = raw_df[['sender_id', 'sender_name', 'country_of_origin']].copy()\n",
    "sender_df.rename(columns={'sender_id':'organization_id', 'sender_name':'name', 'country_of_origin':'country'}, inplace=True)"
   ]
  },
  {
   "cell_type": "code",
   "execution_count": 5,
   "id": "0c3d4aa9-445d-4d46-9f19-2b9f152c4254",
   "metadata": {},
   "outputs": [],
   "source": [
    "receiver_df = raw_df[['receiver_id', 'receiver_name', 'country_of_destination']].copy()\n",
    "receiver_df.rename(columns={'receiver_id':'organization_id', 'receiver_name':'name', 'country_of_destination':'country'}, inplace=True)"
   ]
  },
  {
   "cell_type": "code",
   "execution_count": 6,
   "id": "dde33c23-6053-4730-a97f-2d004dd64cad",
   "metadata": {},
   "outputs": [],
   "source": [
    "branch_df = pd.concat([sender_df, receiver_df], ignore_index=True)"
   ]
  },
  {
   "cell_type": "code",
   "execution_count": 8,
   "id": "b83db76d-d7f1-48c6-baea-3e496f1df8c0",
   "metadata": {},
   "outputs": [],
   "source": [
    "assert branch_df.shape[0] == 2*raw_df.shape[0]"
   ]
  },
  {
   "cell_type": "code",
   "execution_count": 9,
   "id": "bbd8631d-9689-45f4-9b07-42aeaee4f252",
   "metadata": {},
   "outputs": [],
   "source": [
    "assert branch_df.shape[1] == 3"
   ]
  },
  {
   "cell_type": "code",
   "execution_count": 10,
   "id": "5db107be-106b-4ad0-b7f0-e57e78e8ff5e",
   "metadata": {},
   "outputs": [
    {
     "data": {
      "text/html": [
       "<div>\n",
       "<style scoped>\n",
       "    .dataframe tbody tr th:only-of-type {\n",
       "        vertical-align: middle;\n",
       "    }\n",
       "\n",
       "    .dataframe tbody tr th {\n",
       "        vertical-align: top;\n",
       "    }\n",
       "\n",
       "    .dataframe thead th {\n",
       "        text-align: right;\n",
       "    }\n",
       "</style>\n",
       "<table border=\"1\" class=\"dataframe\">\n",
       "  <thead>\n",
       "    <tr style=\"text-align: right;\">\n",
       "      <th></th>\n",
       "      <th>entity_id</th>\n",
       "      <th>name</th>\n",
       "      <th>country</th>\n",
       "    </tr>\n",
       "  </thead>\n",
       "  <tbody>\n",
       "    <tr>\n",
       "      <th>0</th>\n",
       "      <td>52c8642c34649eafe2d044eee3d884e1</td>\n",
       "      <td>Global Fire Protection</td>\n",
       "      <td>US</td>\n",
       "    </tr>\n",
       "    <tr>\n",
       "      <th>1</th>\n",
       "      <td>831a31a1466f0ace3eb20b52d4575f92</td>\n",
       "      <td>Carboline (India) Private Limited</td>\n",
       "      <td>NaN</td>\n",
       "    </tr>\n",
       "    <tr>\n",
       "      <th>2</th>\n",
       "      <td>f580bc1756d06768c94634b0332e1871</td>\n",
       "      <td>Paladin Paints &amp; Chemicals Private Limited</td>\n",
       "      <td>IN</td>\n",
       "    </tr>\n",
       "    <tr>\n",
       "      <th>3</th>\n",
       "      <td>149081be00548b006dc38a88264eae32</td>\n",
       "      <td>Alpha Pacific Group Pte. Ltd.</td>\n",
       "      <td>CN</td>\n",
       "    </tr>\n",
       "    <tr>\n",
       "      <th>4</th>\n",
       "      <td>f4864ac3d5d716cc586d60afe8a403ef</td>\n",
       "      <td>TREMCO CPG INDIA PRIVATE LIMITED</td>\n",
       "      <td>IN</td>\n",
       "    </tr>\n",
       "  </tbody>\n",
       "</table>\n",
       "</div>"
      ],
      "text/plain": [
       "                          entity_id  \\\n",
       "0  52c8642c34649eafe2d044eee3d884e1   \n",
       "1  831a31a1466f0ace3eb20b52d4575f92   \n",
       "2  f580bc1756d06768c94634b0332e1871   \n",
       "3  149081be00548b006dc38a88264eae32   \n",
       "4  f4864ac3d5d716cc586d60afe8a403ef   \n",
       "\n",
       "                                         name country  \n",
       "0                      Global Fire Protection      US  \n",
       "1           Carboline (India) Private Limited     NaN  \n",
       "2  Paladin Paints & Chemicals Private Limited      IN  \n",
       "3               Alpha Pacific Group Pte. Ltd.      CN  \n",
       "4            TREMCO CPG INDIA PRIVATE LIMITED      IN  "
      ]
     },
     "execution_count": 10,
     "metadata": {},
     "output_type": "execute_result"
    }
   ],
   "source": [
    "branch_df.head()"
   ]
  },
  {
   "cell_type": "code",
   "execution_count": 11,
   "id": "bef9f9cb-fb52-4078-845c-2b7e477046fb",
   "metadata": {},
   "outputs": [],
   "source": [
    "branch_df.name = branch_df.name.str.lower()"
   ]
  },
  {
   "cell_type": "code",
   "execution_count": 12,
   "id": "38c52655-ea4a-49e9-b55b-35fcbeb8d5a8",
   "metadata": {},
   "outputs": [
    {
     "data": {
      "text/html": [
       "<div>\n",
       "<style scoped>\n",
       "    .dataframe tbody tr th:only-of-type {\n",
       "        vertical-align: middle;\n",
       "    }\n",
       "\n",
       "    .dataframe tbody tr th {\n",
       "        vertical-align: top;\n",
       "    }\n",
       "\n",
       "    .dataframe thead th {\n",
       "        text-align: right;\n",
       "    }\n",
       "</style>\n",
       "<table border=\"1\" class=\"dataframe\">\n",
       "  <thead>\n",
       "    <tr style=\"text-align: right;\">\n",
       "      <th></th>\n",
       "      <th>entity_id</th>\n",
       "      <th>name</th>\n",
       "      <th>country</th>\n",
       "    </tr>\n",
       "  </thead>\n",
       "  <tbody>\n",
       "    <tr>\n",
       "      <th>0</th>\n",
       "      <td>52c8642c34649eafe2d044eee3d884e1</td>\n",
       "      <td>global fire protection</td>\n",
       "      <td>US</td>\n",
       "    </tr>\n",
       "    <tr>\n",
       "      <th>1</th>\n",
       "      <td>831a31a1466f0ace3eb20b52d4575f92</td>\n",
       "      <td>carboline (india) private limited</td>\n",
       "      <td>NaN</td>\n",
       "    </tr>\n",
       "    <tr>\n",
       "      <th>2</th>\n",
       "      <td>f580bc1756d06768c94634b0332e1871</td>\n",
       "      <td>paladin paints &amp; chemicals private limited</td>\n",
       "      <td>IN</td>\n",
       "    </tr>\n",
       "    <tr>\n",
       "      <th>3</th>\n",
       "      <td>149081be00548b006dc38a88264eae32</td>\n",
       "      <td>alpha pacific group pte. ltd.</td>\n",
       "      <td>CN</td>\n",
       "    </tr>\n",
       "    <tr>\n",
       "      <th>4</th>\n",
       "      <td>f4864ac3d5d716cc586d60afe8a403ef</td>\n",
       "      <td>tremco cpg india private limited</td>\n",
       "      <td>IN</td>\n",
       "    </tr>\n",
       "    <tr>\n",
       "      <th>...</th>\n",
       "      <td>...</td>\n",
       "      <td>...</td>\n",
       "      <td>...</td>\n",
       "    </tr>\n",
       "    <tr>\n",
       "      <th>199763</th>\n",
       "      <td>66ebf2a3aa71c90b4df3fc93590e22db</td>\n",
       "      <td>tengizchevroil llp</td>\n",
       "      <td>KZ</td>\n",
       "    </tr>\n",
       "    <tr>\n",
       "      <th>199764</th>\n",
       "      <td>66ebf2a3aa71c90b4df3fc93590e22db</td>\n",
       "      <td>tengizchevroil llp</td>\n",
       "      <td>KZ</td>\n",
       "    </tr>\n",
       "    <tr>\n",
       "      <th>199765</th>\n",
       "      <td>66ebf2a3aa71c90b4df3fc93590e22db</td>\n",
       "      <td>tengizchevroil llp</td>\n",
       "      <td>KZ</td>\n",
       "    </tr>\n",
       "    <tr>\n",
       "      <th>199766</th>\n",
       "      <td>66ebf2a3aa71c90b4df3fc93590e22db</td>\n",
       "      <td>tengizchevroil llp</td>\n",
       "      <td>KZ</td>\n",
       "    </tr>\n",
       "    <tr>\n",
       "      <th>199767</th>\n",
       "      <td>66ebf2a3aa71c90b4df3fc93590e22db</td>\n",
       "      <td>tengizchevroil llp</td>\n",
       "      <td>KZ</td>\n",
       "    </tr>\n",
       "  </tbody>\n",
       "</table>\n",
       "<p>199768 rows × 3 columns</p>\n",
       "</div>"
      ],
      "text/plain": [
       "                               entity_id  \\\n",
       "0       52c8642c34649eafe2d044eee3d884e1   \n",
       "1       831a31a1466f0ace3eb20b52d4575f92   \n",
       "2       f580bc1756d06768c94634b0332e1871   \n",
       "3       149081be00548b006dc38a88264eae32   \n",
       "4       f4864ac3d5d716cc586d60afe8a403ef   \n",
       "...                                  ...   \n",
       "199763  66ebf2a3aa71c90b4df3fc93590e22db   \n",
       "199764  66ebf2a3aa71c90b4df3fc93590e22db   \n",
       "199765  66ebf2a3aa71c90b4df3fc93590e22db   \n",
       "199766  66ebf2a3aa71c90b4df3fc93590e22db   \n",
       "199767  66ebf2a3aa71c90b4df3fc93590e22db   \n",
       "\n",
       "                                              name country  \n",
       "0                           global fire protection      US  \n",
       "1                carboline (india) private limited     NaN  \n",
       "2       paladin paints & chemicals private limited      IN  \n",
       "3                    alpha pacific group pte. ltd.      CN  \n",
       "4                 tremco cpg india private limited      IN  \n",
       "...                                            ...     ...  \n",
       "199763                          tengizchevroil llp      KZ  \n",
       "199764                          tengizchevroil llp      KZ  \n",
       "199765                          tengizchevroil llp      KZ  \n",
       "199766                          tengizchevroil llp      KZ  \n",
       "199767                          tengizchevroil llp      KZ  \n",
       "\n",
       "[199768 rows x 3 columns]"
      ]
     },
     "execution_count": 12,
     "metadata": {},
     "output_type": "execute_result"
    }
   ],
   "source": [
    "branch_df"
   ]
  },
  {
   "cell_type": "code",
   "execution_count": 13,
   "id": "52d8bfa9-6c30-47ab-80f7-9d162a88bf53",
   "metadata": {},
   "outputs": [
    {
     "data": {
      "text/plain": [
       "np.float64(0.19092647471066437)"
      ]
     },
     "execution_count": 13,
     "metadata": {},
     "output_type": "execute_result"
    }
   ],
   "source": [
    "branch_df.country.isna().mean()"
   ]
  },
  {
   "cell_type": "code",
   "execution_count": 25,
   "id": "d98d82aa-7c71-42cb-a6df-8ec571ebdf2a",
   "metadata": {},
   "outputs": [],
   "source": [
    "branch_df.drop_duplicates(inplace=True)"
   ]
  },
  {
   "cell_type": "code",
   "execution_count": 26,
   "id": "685977a7-c4f6-4419-9b3c-41a7e7810ca5",
   "metadata": {},
   "outputs": [
    {
     "data": {
      "text/plain": [
       "(2280, 3)"
      ]
     },
     "execution_count": 26,
     "metadata": {},
     "output_type": "execute_result"
    }
   ],
   "source": [
    "branch_df.shape"
   ]
  },
  {
   "cell_type": "markdown",
   "id": "655ecf3d-bcfa-4eb3-ade0-b57a9a9033e1",
   "metadata": {},
   "source": [
    "# Transformer"
   ]
  },
  {
   "cell_type": "code",
   "execution_count": 14,
   "id": "59d586a3-4f18-4591-ae6b-2aacaefb9b59",
   "metadata": {},
   "outputs": [],
   "source": [
    "model_name = 'sentence-transformers/all-MiniLM-L6-v2'\n",
    "tokenizer = AutoTokenizer.from_pretrained(model_name, clean_up_tokenization_spaces=True)\n",
    "model = AutoModel.from_pretrained(model_name)"
   ]
  },
  {
   "cell_type": "code",
   "execution_count": 15,
   "id": "8182676f-aece-4e9e-8de3-dc94d59cc3ff",
   "metadata": {},
   "outputs": [],
   "source": [
    "def encode_branch_names(sentences):\n",
    "    inputs = tokenizer(sentences, padding=True, truncation=True, return_tensors='pt')\n",
    "    with torch.no_grad():\n",
    "        embeddings = model(**inputs).last_hidden_state[:, 0, :]  # Get the [CLS] token embeddings\n",
    "    return embeddings"
   ]
  },
  {
   "cell_type": "code",
   "execution_count": 16,
   "id": "4dab77fc-7bcf-4e8b-afca-e7c5925ae882",
   "metadata": {},
   "outputs": [],
   "source": [
    "embeddings = encode_branch_names(branch_df.name.head(10).to_list())"
   ]
  },
  {
   "cell_type": "code",
   "execution_count": 17,
   "id": "2fd3afd3-f52b-4bf1-9789-a63a63511059",
   "metadata": {},
   "outputs": [
    {
     "data": {
      "text/plain": [
       "tensor([[-0.1593,  0.5316,  0.1424,  ..., -0.2873, -0.5618,  0.0940],\n",
       "        [-0.3550,  0.0010, -0.2111,  ...,  0.1767, -0.1864, -0.3681],\n",
       "        [-0.1751,  0.2805,  0.0979,  ...,  0.2655, -0.1599,  0.1864],\n",
       "        ...,\n",
       "        [-0.3601,  0.2911,  0.1464,  ..., -0.4111, -0.5530,  0.0299],\n",
       "        [ 0.0975,  0.0013,  0.1086,  ...,  0.0643, -0.2248, -0.0738],\n",
       "        [-0.8813, -0.1397, -0.0803,  ..., -0.0224,  0.0229, -0.0959]])"
      ]
     },
     "execution_count": 17,
     "metadata": {},
     "output_type": "execute_result"
    }
   ],
   "source": [
    "embeddings"
   ]
  },
  {
   "cell_type": "code",
   "execution_count": 18,
   "id": "0416d3ed-9636-4026-84ab-2b5f55e0ee6f",
   "metadata": {},
   "outputs": [
    {
     "data": {
      "text/plain": [
       "torch.Size([10, 384])"
      ]
     },
     "execution_count": 18,
     "metadata": {},
     "output_type": "execute_result"
    }
   ],
   "source": [
    "embeddings.shape"
   ]
  },
  {
   "cell_type": "code",
   "execution_count": 33,
   "id": "52baee49-302f-4e07-8126-53851a4ca6c0",
   "metadata": {},
   "outputs": [
    {
     "name": "stdout",
     "output_type": "stream",
     "text": [
      "0.7208491563796997\n",
      "0.992590606212616\n",
      "0.7118538022041321\n"
     ]
    }
   ],
   "source": [
    "embeddings2 = encode_branch_names(['basf hong kong ltd', 'covestro hon kong limited', 'basf hongkong ltd'])\n",
    "print(cosine_similarity(embeddings2[0], embeddings2[1]))\n",
    "print(cosine_similarity(embeddings2[0], embeddings2[2]))\n",
    "print(cosine_similarity(embeddings2[1], embeddings2[2]))"
   ]
  },
  {
   "cell_type": "code",
   "execution_count": 34,
   "id": "804c8cda-fab6-49e0-9760-420a575e70f4",
   "metadata": {},
   "outputs": [
    {
     "name": "stdout",
     "output_type": "stream",
     "text": [
      "0.976394534111023\n"
     ]
    }
   ],
   "source": [
    "embeddings3 = encode_branch_names(['Craig International Supplies Inc located in US', 'Craig International Supplies Inc located in UK'])\n",
    "print(cosine_similarity(embeddings3[0], embeddings3[1]))"
   ]
  },
  {
   "cell_type": "code",
   "execution_count": 19,
   "id": "d82996ec-827b-4167-83c9-593b3b372e4e",
   "metadata": {},
   "outputs": [
    {
     "ename": "NameError",
     "evalue": "name 'util' is not defined",
     "output_type": "error",
     "traceback": [
      "\u001b[0;31m---------------------------------------------------------------------------\u001b[0m",
      "\u001b[0;31mNameError\u001b[0m                                 Traceback (most recent call last)",
      "Cell \u001b[0;32mIn[19], line 1\u001b[0m\n\u001b[0;32m----> 1\u001b[0m similarity_matrix \u001b[38;5;241m=\u001b[39m \u001b[43mutil\u001b[49m\u001b[38;5;241m.\u001b[39mpytorch_cos_sim(embeddings, embeddings)\n\u001b[1;32m      3\u001b[0m \u001b[38;5;28mprint\u001b[39m(similarity_matrix)\n",
      "\u001b[0;31mNameError\u001b[0m: name 'util' is not defined"
     ]
    }
   ],
   "source": [
    "similarity_matrix = util.pytorch_cos_sim(embeddings, embeddings)\n",
    "\n",
    "print(similarity_matrix)"
   ]
  },
  {
   "cell_type": "code",
   "execution_count": 20,
   "id": "85962c71-2800-47c9-957f-fd1dae6efada",
   "metadata": {},
   "outputs": [],
   "source": [
    "def cosine_similarity(a, b):\n",
    "    return torch.nn.functional.cosine_similarity(a.unsqueeze(0), b.unsqueeze(0)).item()"
   ]
  },
  {
   "cell_type": "code",
   "execution_count": 21,
   "id": "4f8bd923-d2b0-43f7-b466-2c8bc906ea83",
   "metadata": {},
   "outputs": [
    {
     "data": {
      "text/plain": [
       "0.5538130402565002"
      ]
     },
     "execution_count": 21,
     "metadata": {},
     "output_type": "execute_result"
    }
   ],
   "source": [
    "cosine_similarity(embeddings[0], embeddings[1])"
   ]
  },
  {
   "cell_type": "code",
   "execution_count": 22,
   "id": "7ed84514-a835-4799-a311-d44ec7943b38",
   "metadata": {},
   "outputs": [
    {
     "data": {
      "text/html": [
       "<div>\n",
       "<style scoped>\n",
       "    .dataframe tbody tr th:only-of-type {\n",
       "        vertical-align: middle;\n",
       "    }\n",
       "\n",
       "    .dataframe tbody tr th {\n",
       "        vertical-align: top;\n",
       "    }\n",
       "\n",
       "    .dataframe thead th {\n",
       "        text-align: right;\n",
       "    }\n",
       "</style>\n",
       "<table border=\"1\" class=\"dataframe\">\n",
       "  <thead>\n",
       "    <tr style=\"text-align: right;\">\n",
       "      <th></th>\n",
       "      <th>entity_id</th>\n",
       "      <th>name</th>\n",
       "      <th>country</th>\n",
       "    </tr>\n",
       "  </thead>\n",
       "  <tbody>\n",
       "    <tr>\n",
       "      <th>0</th>\n",
       "      <td>52c8642c34649eafe2d044eee3d884e1</td>\n",
       "      <td>global fire protection</td>\n",
       "      <td>US</td>\n",
       "    </tr>\n",
       "    <tr>\n",
       "      <th>1</th>\n",
       "      <td>831a31a1466f0ace3eb20b52d4575f92</td>\n",
       "      <td>carboline (india) private limited</td>\n",
       "      <td>NaN</td>\n",
       "    </tr>\n",
       "    <tr>\n",
       "      <th>2</th>\n",
       "      <td>f580bc1756d06768c94634b0332e1871</td>\n",
       "      <td>paladin paints &amp; chemicals private limited</td>\n",
       "      <td>IN</td>\n",
       "    </tr>\n",
       "    <tr>\n",
       "      <th>3</th>\n",
       "      <td>149081be00548b006dc38a88264eae32</td>\n",
       "      <td>alpha pacific group pte. ltd.</td>\n",
       "      <td>CN</td>\n",
       "    </tr>\n",
       "    <tr>\n",
       "      <th>4</th>\n",
       "      <td>f4864ac3d5d716cc586d60afe8a403ef</td>\n",
       "      <td>tremco cpg india private limited</td>\n",
       "      <td>IN</td>\n",
       "    </tr>\n",
       "  </tbody>\n",
       "</table>\n",
       "</div>"
      ],
      "text/plain": [
       "                          entity_id  \\\n",
       "0  52c8642c34649eafe2d044eee3d884e1   \n",
       "1  831a31a1466f0ace3eb20b52d4575f92   \n",
       "2  f580bc1756d06768c94634b0332e1871   \n",
       "3  149081be00548b006dc38a88264eae32   \n",
       "4  f4864ac3d5d716cc586d60afe8a403ef   \n",
       "\n",
       "                                         name country  \n",
       "0                      global fire protection      US  \n",
       "1           carboline (india) private limited     NaN  \n",
       "2  paladin paints & chemicals private limited      IN  \n",
       "3               alpha pacific group pte. ltd.      CN  \n",
       "4            tremco cpg india private limited      IN  "
      ]
     },
     "execution_count": 22,
     "metadata": {},
     "output_type": "execute_result"
    }
   ],
   "source": [
    "branch_df.head()"
   ]
  },
  {
   "cell_type": "code",
   "execution_count": null,
   "id": "f69467ef-f97b-412c-ab55-96ce4a3b1cfb",
   "metadata": {},
   "outputs": [],
   "source": [
    "branch_similarity_df = pd.DataFrame(columns=['organization_id', 'name_a', 'country_a', 'name_b', 'country_b', 'cosine_similarity'])"
   ]
  },
  {
   "cell_type": "code",
   "execution_count": null,
   "id": "df3c0531-80e6-4362-b1c8-608cd422d637",
   "metadata": {},
   "outputs": [],
   "source": [
    "embeddings2 = encode_branch_names(['basf hong kong ltd', 'covestro hon kong limited', 'basf hongkong ltd'])"
   ]
  },
  {
   "cell_type": "code",
   "execution_count": 1,
   "id": "bb6ff1b4-d48d-4f40-aafa-93149f0137d7",
   "metadata": {},
   "outputs": [],
   "source": [
    "# for name, group in branch_df.groupby('organization_id'):\n",
    "#     print(f\"Group: {name}\")\n",
    "#     print(group)"
   ]
  },
  {
   "cell_type": "code",
   "execution_count": null,
   "id": "0ff7690c-2c66-4f21-9cd9-f8823b753d05",
   "metadata": {},
   "outputs": [],
   "source": [
    "branch_df."
   ]
  }
 ],
 "metadata": {
  "kernelspec": {
   "display_name": "Python 3 (ipykernel)",
   "language": "python",
   "name": "python3"
  },
  "language_info": {
   "codemirror_mode": {
    "name": "ipython",
    "version": 3
   },
   "file_extension": ".py",
   "mimetype": "text/x-python",
   "name": "python",
   "nbconvert_exporter": "python",
   "pygments_lexer": "ipython3",
   "version": "3.11.10"
  }
 },
 "nbformat": 4,
 "nbformat_minor": 5
}

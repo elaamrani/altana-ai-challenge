{
 "cells": [
  {
   "cell_type": "code",
   "execution_count": 1,
   "id": "66bea0cb-0e80-4b2f-831c-fef02a402b11",
   "metadata": {},
   "outputs": [],
   "source": [
    "import pandas as pd\n",
    "from arango import ArangoClient"
   ]
  },
  {
   "cell_type": "code",
   "execution_count": 2,
   "id": "2e51aed5-6862-4464-8282-0d38393cf417",
   "metadata": {},
   "outputs": [],
   "source": [
    "client = ArangoClient(hosts=\"https://2ae4f052d710.arangodb.cloud:8529\")\n",
    "\n",
    "db = client.db('machine_learning', username='lab_test', password='z-rRdN-Enf4qQwybGiVdbG')"
   ]
  },
  {
   "cell_type": "code",
   "execution_count": 3,
   "id": "514b92f6-8901-4ef3-b46f-ef0aa6c53a71",
   "metadata": {},
   "outputs": [],
   "source": [
    "pregel = db.pregel"
   ]
  },
  {
   "cell_type": "code",
   "execution_count": 59,
   "id": "169a72e3-ae00-41b4-8470-e9cd64d9d983",
   "metadata": {},
   "outputs": [],
   "source": [
    "job_id = db.pregel.create_job(\n",
    "    graph='organization_organization_transaction',\n",
    "    algorithm='effectivecloseness',\n",
    "    store=False,\n",
    "    max_gss=None,\n",
    "    thread_count=1,\n",
    "    async_mode=False,\n",
    "    result_field='score'\n",
    ")"
   ]
  },
  {
   "cell_type": "code",
   "execution_count": 60,
   "id": "911fedaa-9e0a-4231-a3f1-35fe87eded89",
   "metadata": {},
   "outputs": [],
   "source": [
    "job = pregel.job(job_id)"
   ]
  },
  {
   "cell_type": "code",
   "execution_count": 66,
   "id": "a1503778-95c7-4125-8398-d35ff8e98c27",
   "metadata": {},
   "outputs": [],
   "source": [
    "aql_query = \"\"\"\n",
    "FOR res IN PREGEL_RESULT(@job_id)\n",
    "    RETURN {\"_key\": res._key, \"effective_closeness\": ROUND(res.score*100)/100}\n",
    "\"\"\"\n",
    "cursor = db.aql.execute(aql_query, bind_vars={'job_id': job_id})\n",
    "scores = list(cursor)"
   ]
  },
  {
   "cell_type": "code",
   "execution_count": 57,
   "id": "3f6789aa-9e7b-4fa7-9fd6-f91ae2dbcc35",
   "metadata": {},
   "outputs": [],
   "source": [
    "if db.has_collection('organization_organization_transaction_closeness'):\n",
    "    collection = db.collection('organization_organization_transaction_closeness')\n",
    "else:\n",
    "    collection = db.create_collection('organization_organization_transaction_closeness')"
   ]
  },
  {
   "cell_type": "code",
   "execution_count": 68,
   "id": "c3090ec3-3fde-47a1-8977-e1e962f2831c",
   "metadata": {},
   "outputs": [
    {
     "data": {
      "text/plain": [
       "True"
      ]
     },
     "execution_count": 68,
     "metadata": {},
     "output_type": "execute_result"
    }
   ],
   "source": [
    "collection.insert_many(scores, overwrite_mode=\"replace\", silent=True)"
   ]
  },
  {
   "cell_type": "code",
   "execution_count": 69,
   "id": "4d47eea3-377a-45d6-b056-998aa6dfa338",
   "metadata": {},
   "outputs": [
    {
     "data": {
      "text/plain": [
       "2072"
      ]
     },
     "execution_count": 69,
     "metadata": {},
     "output_type": "execute_result"
    }
   ],
   "source": [
    "collection.count()"
   ]
  },
  {
   "cell_type": "code",
   "execution_count": null,
   "id": "bbee1d3e-57d8-446f-bcc9-148968d9d3f8",
   "metadata": {},
   "outputs": [],
   "source": []
  }
 ],
 "metadata": {
  "kernelspec": {
   "display_name": "Python 3 (ipykernel)",
   "language": "python",
   "name": "python3"
  },
  "language_info": {
   "codemirror_mode": {
    "name": "ipython",
    "version": 3
   },
   "file_extension": ".py",
   "mimetype": "text/x-python",
   "name": "python",
   "nbconvert_exporter": "python",
   "pygments_lexer": "ipython3",
   "version": "3.11.10"
  }
 },
 "nbformat": 4,
 "nbformat_minor": 5
}

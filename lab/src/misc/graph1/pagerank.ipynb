{
 "cells": [
  {
   "cell_type": "code",
   "execution_count": 1,
   "id": "8b99ccac-d413-4f18-a663-3d64a9a7468a",
   "metadata": {},
   "outputs": [],
   "source": [
    "import pandas as pd\n",
    "from arango import ArangoClient"
   ]
  },
  {
   "cell_type": "code",
   "execution_count": 2,
   "id": "2460abbc-5819-481f-a9f5-6840eb790536",
   "metadata": {},
   "outputs": [],
   "source": [
    "client = ArangoClient(hosts=\"https://2ae4f052d710.arangodb.cloud:8529\")\n",
    "\n",
    "db = client.db('machine_learning', username='lab_test', password='z-rRdN-Enf4qQwybGiVdbG')"
   ]
  },
  {
   "cell_type": "code",
   "execution_count": 3,
   "id": "c10aeb9c-ebe7-4c8e-a76d-1e5e9960b330",
   "metadata": {},
   "outputs": [],
   "source": [
    "pregel = db.pregel"
   ]
  },
  {
   "cell_type": "code",
   "execution_count": 4,
   "id": "b96d7d4d-9d1d-488e-9f66-83fb83d300c8",
   "metadata": {},
   "outputs": [],
   "source": [
    "job_id = db.pregel.create_job(\n",
    "    graph='organization_organization_transaction',\n",
    "    algorithm='pagerank',\n",
    "    store=False,\n",
    "    max_gss=None,\n",
    "    thread_count=1,\n",
    "    async_mode=False,\n",
    "    result_field='score'\n",
    "    # algorithm_params={'threshold': 0.000001}\n",
    ")"
   ]
  },
  {
   "cell_type": "code",
   "execution_count": 5,
   "id": "fc734581-94ac-4a8f-9c1a-a03921d06ba4",
   "metadata": {},
   "outputs": [],
   "source": [
    "job = pregel.job(job_id)"
   ]
  },
  {
   "cell_type": "code",
   "execution_count": 6,
   "id": "ed49d0eb-be95-49b7-a7a1-aee99a780507",
   "metadata": {},
   "outputs": [],
   "source": [
    "aql_query = \"\"\"\n",
    "FOR res IN PREGEL_RESULT(@job_id)\n",
    "    RETURN {\"_key\": res._key, \"page_rank\": ROUND(res.score*100)/100}\n",
    "\"\"\"\n",
    "cursor = db.aql.execute(aql_query, bind_vars={'job_id': job_id})\n",
    "scores = list(cursor)"
   ]
  },
  {
   "cell_type": "code",
   "execution_count": 7,
   "id": "d2d31364-a410-4c13-9855-e8e24c12ffc6",
   "metadata": {},
   "outputs": [],
   "source": [
    "if db.has_collection('organization_organization_transaction_pagerank'):\n",
    "    collection = db.collection('organization_organization_transaction_pagerank')\n",
    "else:\n",
    "    collection = db.create_collection('organization_organization_transaction_pagerank')"
   ]
  },
  {
   "cell_type": "code",
   "execution_count": 8,
   "id": "0a9d4214-4e38-40c1-8674-af54f0609c20",
   "metadata": {},
   "outputs": [
    {
     "data": {
      "text/plain": [
       "True"
      ]
     },
     "execution_count": 8,
     "metadata": {},
     "output_type": "execute_result"
    }
   ],
   "source": [
    "collection.insert_many(scores, overwrite_mode=\"replace\", silent=True)"
   ]
  },
  {
   "cell_type": "code",
   "execution_count": 9,
   "id": "59df507a-95a4-41a9-9a13-5d6af3f4d1e0",
   "metadata": {},
   "outputs": [],
   "source": [
    "scores_df = pd.DataFrame(scores)"
   ]
  },
  {
   "cell_type": "code",
   "execution_count": 11,
   "id": "4d0661ea-6d1e-4d16-aa53-aefad05df2e1",
   "metadata": {},
   "outputs": [
    {
     "data": {
      "text/plain": [
       "<Axes: >"
      ]
     },
     "execution_count": 11,
     "metadata": {},
     "output_type": "execute_result"
    },
    {
     "data": {
      "image/png": "[encoded data removed]",
      "text/plain": [
       "<Figure size 640x480 with 1 Axes>"
      ]
     },
     "metadata": {},
     "output_type": "display_data"
    }
   ],
   "source": [
    "scores_df.page_rank.hist()"
   ]
  },
  {
   "cell_type": "code",
   "execution_count": 13,
   "id": "215485b9-53f6-45a8-8d60-d0a2354c5e36",
   "metadata": {},
   "outputs": [
    {
     "data": {
      "text/html": [
       "<div>\n",
       "<style scoped>\n",
       "    .dataframe tbody tr th:only-of-type {\n",
       "        vertical-align: middle;\n",
       "    }\n",
       "\n",
       "    .dataframe tbody tr th {\n",
       "        vertical-align: top;\n",
       "    }\n",
       "\n",
       "    .dataframe thead th {\n",
       "        text-align: right;\n",
       "    }\n",
       "</style>\n",
       "<table border=\"1\" class=\"dataframe\">\n",
       "  <thead>\n",
       "    <tr style=\"text-align: right;\">\n",
       "      <th></th>\n",
       "      <th>_key</th>\n",
       "      <th>page_rank</th>\n",
       "    </tr>\n",
       "  </thead>\n",
       "  <tbody>\n",
       "    <tr>\n",
       "      <th>104</th>\n",
       "      <td>6eeec4b8f6d2ddcfac4d0f6c13f60de9</td>\n",
       "      <td>0.01</td>\n",
       "    </tr>\n",
       "    <tr>\n",
       "      <th>532</th>\n",
       "      <td>54b1e8a8922713623c4dc0f3bdbd29b5</td>\n",
       "      <td>0.01</td>\n",
       "    </tr>\n",
       "    <tr>\n",
       "      <th>768</th>\n",
       "      <td>66ebf2a3aa71c90b4df3fc93590e22db</td>\n",
       "      <td>0.05</td>\n",
       "    </tr>\n",
       "    <tr>\n",
       "      <th>794</th>\n",
       "      <td>2c398f54dacfc67b9fbe414565285dba</td>\n",
       "      <td>0.01</td>\n",
       "    </tr>\n",
       "    <tr>\n",
       "      <th>921</th>\n",
       "      <td>4174ce1ae09c87cce8a4accaf940bc58</td>\n",
       "      <td>0.01</td>\n",
       "    </tr>\n",
       "    <tr>\n",
       "      <th>971</th>\n",
       "      <td>fa189791c33ccd4f4456a715446d694a</td>\n",
       "      <td>0.01</td>\n",
       "    </tr>\n",
       "    <tr>\n",
       "      <th>1021</th>\n",
       "      <td>24c3e29009a0784d1a9a2f49e8b5e326</td>\n",
       "      <td>0.01</td>\n",
       "    </tr>\n",
       "    <tr>\n",
       "      <th>1295</th>\n",
       "      <td>ed46d890f9c84ab5a1c90e01a760cfdc</td>\n",
       "      <td>0.01</td>\n",
       "    </tr>\n",
       "    <tr>\n",
       "      <th>1401</th>\n",
       "      <td>06072239047275d4512e5ea5f2739620</td>\n",
       "      <td>0.01</td>\n",
       "    </tr>\n",
       "    <tr>\n",
       "      <th>1519</th>\n",
       "      <td>94ae60097ba7509ca784c5de117eed38</td>\n",
       "      <td>0.01</td>\n",
       "    </tr>\n",
       "    <tr>\n",
       "      <th>1751</th>\n",
       "      <td>18761db1267ba45c55ee289afbf1d1a0</td>\n",
       "      <td>0.01</td>\n",
       "    </tr>\n",
       "    <tr>\n",
       "      <th>1807</th>\n",
       "      <td>48541ba40bcab069aa5d91c12a5299d0</td>\n",
       "      <td>0.04</td>\n",
       "    </tr>\n",
       "    <tr>\n",
       "      <th>1819</th>\n",
       "      <td>140c63ccedc8eac19c62398e6c1af6d0</td>\n",
       "      <td>0.01</td>\n",
       "    </tr>\n",
       "    <tr>\n",
       "      <th>1837</th>\n",
       "      <td>36d6acce681cb79780c2ccefdb9b2466</td>\n",
       "      <td>0.01</td>\n",
       "    </tr>\n",
       "    <tr>\n",
       "      <th>1850</th>\n",
       "      <td>fd2036609b85edd19d634da435badfa9</td>\n",
       "      <td>0.01</td>\n",
       "    </tr>\n",
       "  </tbody>\n",
       "</table>\n",
       "</div>"
      ],
      "text/plain": [
       "                                  _key  page_rank\n",
       "104   6eeec4b8f6d2ddcfac4d0f6c13f60de9       0.01\n",
       "532   54b1e8a8922713623c4dc0f3bdbd29b5       0.01\n",
       "768   66ebf2a3aa71c90b4df3fc93590e22db       0.05\n",
       "794   2c398f54dacfc67b9fbe414565285dba       0.01\n",
       "921   4174ce1ae09c87cce8a4accaf940bc58       0.01\n",
       "971   fa189791c33ccd4f4456a715446d694a       0.01\n",
       "1021  24c3e29009a0784d1a9a2f49e8b5e326       0.01\n",
       "1295  ed46d890f9c84ab5a1c90e01a760cfdc       0.01\n",
       "1401  06072239047275d4512e5ea5f2739620       0.01\n",
       "1519  94ae60097ba7509ca784c5de117eed38       0.01\n",
       "1751  18761db1267ba45c55ee289afbf1d1a0       0.01\n",
       "1807  48541ba40bcab069aa5d91c12a5299d0       0.04\n",
       "1819  140c63ccedc8eac19c62398e6c1af6d0       0.01\n",
       "1837  36d6acce681cb79780c2ccefdb9b2466       0.01\n",
       "1850  fd2036609b85edd19d634da435badfa9       0.01"
      ]
     },
     "execution_count": 13,
     "metadata": {},
     "output_type": "execute_result"
    }
   ],
   "source": [
    "scores_df[scores_df.page_rank>0.001]"
   ]
  },
  {
   "cell_type": "code",
   "execution_count": null,
   "id": "557b97fb-5857-462d-a4b8-c153d9d9c47c",
   "metadata": {},
   "outputs": [],
   "source": []
  }
 ],
 "metadata": {
  "kernelspec": {
   "display_name": "Python 3 (ipykernel)",
   "language": "python",
   "name": "python3"
  },
  "language_info": {
   "codemirror_mode": {
    "name": "ipython",
    "version": 3
   },
   "file_extension": ".py",
   "mimetype": "text/x-python",
   "name": "python",
   "nbconvert_exporter": "python",
   "pygments_lexer": "ipython3",
   "version": "3.11.10"
  }
 },
 "nbformat": 4,
 "nbformat_minor": 5
}

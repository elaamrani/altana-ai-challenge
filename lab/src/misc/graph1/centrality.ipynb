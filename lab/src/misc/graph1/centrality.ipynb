{
 "cells": [
  {
   "cell_type": "code",
   "execution_count": 1,
   "id": "09d033bd-76ca-41a1-8d2b-b685de77142d",
   "metadata": {},
   "outputs": [],
   "source": [
    "import pandas as pd\n",
    "from arango import ArangoClient"
   ]
  },
  {
   "cell_type": "code",
   "execution_count": 3,
   "id": "a68c5fd7-d557-4021-a225-854cb7c92308",
   "metadata": {},
   "outputs": [],
   "source": [
    "client = ArangoClient(hosts=\"https://2ae4f052d710.arangodb.cloud:8529\")\n",
    "\n",
    "db = client.db('machine_learning', username='lab_test', password='z-rRdN-Enf4qQwybGiVdbG')"
   ]
  },
  {
   "cell_type": "code",
   "execution_count": 36,
   "id": "a0ffcc31-67b4-4f06-aeb5-b7ad3d875417",
   "metadata": {},
   "outputs": [
    {
     "name": "stdout",
     "output_type": "stream",
     "text": [
      "{'id': '34c819d9fde656905aa7d1f349426e4f', 'name': 'Kisco Ltd.', 'score': 7727}\n",
      "{'id': '1923e93233a0325c15d37bf3a5e7b5cb', 'name': 'Kisco Pty. Ltd.', 'score': 7226}\n",
      "{'id': 'd9b7154bf4df8d58a97e2a52c43662da', 'name': 'Thomas Kurze GmbH', 'score': 2609}\n"
     ]
    }
   ],
   "source": [
    "outbound_degree_aql = \"\"\"\n",
    "FOR ooc IN organization_organization_transaction_degree\n",
    "  SORT ooc.outbound_degree DESC\n",
    "  LIMIT 3\n",
    "  LET org = DOCUMENT(CONCAT(\"organizations/\", ooc._key))\n",
    "  RETURN {\n",
    "    id: ooc._key,\n",
    "    name: org.name,\n",
    "    score: ooc.outbound_degree\n",
    "  }\n",
    "\"\"\"\n",
    "outbound_cursor = db.aql.execute(outbound_degree_aql)\n",
    "for doc in outbound_cursor:\n",
    "    print(doc)"
   ]
  },
  {
   "cell_type": "code",
   "execution_count": 37,
   "id": "333136bd-c39b-4ef0-b56d-47b9a8119825",
   "metadata": {},
   "outputs": [
    {
     "name": "stdout",
     "output_type": "stream",
     "text": [
      "{'id': '66ebf2a3aa71c90b4df3fc93590e22db', 'name': 'Tengizchevroil Llp', 'score': 61663}\n",
      "{'id': '4174ce1ae09c87cce8a4accaf940bc58', 'name': 'Avery Dennison Converted Products De Mexico Sa De Cv', 'score': 8433}\n",
      "{'id': '3e7283510c1caadbf2ce7c6f9bc81698', 'name': 'Lanxess India Private Limited', 'score': 3294}\n"
     ]
    }
   ],
   "source": [
    "inbound_degree_aql = \"\"\"\n",
    "FOR ooc IN organization_organization_transaction_degree\n",
    "  SORT ooc.inbound_degree DESC\n",
    "  LIMIT 3\n",
    "  LET org = DOCUMENT(CONCAT(\"organizations/\", ooc._key))\n",
    "  RETURN {\n",
    "    id: ooc._key,\n",
    "    name: org.name,\n",
    "    score: ooc.inbound_degree\n",
    "  }\n",
    "\"\"\"\n",
    "inbound_cursor = db.aql.execute(inbound_degree_aql)\n",
    "for doc in inbound_cursor:\n",
    "    print(doc)"
   ]
  },
  {
   "cell_type": "code",
   "execution_count": 38,
   "id": "45ae476b-71fc-4485-b3e1-a836452681e2",
   "metadata": {},
   "outputs": [
    {
     "name": "stdout",
     "output_type": "stream",
     "text": [
      "{'id': '66ebf2a3aa71c90b4df3fc93590e22db', 'name': 'Tengizchevroil Llp', 'score': 61673}\n",
      "{'id': '4174ce1ae09c87cce8a4accaf940bc58', 'name': 'Avery Dennison Converted Products De Mexico Sa De Cv', 'score': 8529}\n",
      "{'id': '34c819d9fde656905aa7d1f349426e4f', 'name': 'Kisco Ltd.', 'score': 7727}\n"
     ]
    }
   ],
   "source": [
    "total_degree_aql = \"\"\"\n",
    "FOR ooc IN organization_organization_transaction_degree\n",
    "  SORT ooc.total_degree DESC\n",
    "  LIMIT 3\n",
    "  LET org = DOCUMENT(CONCAT(\"organizations/\", ooc._key))\n",
    "  RETURN {\n",
    "    id: ooc._key,\n",
    "    name: org.name,\n",
    "    score: ooc.total_degree\n",
    "  }\n",
    "\"\"\"\n",
    "total_cursor = db.aql.execute(total_degree_aql)\n",
    "for doc in total_cursor:\n",
    "    print(doc)"
   ]
  },
  {
   "cell_type": "code",
   "execution_count": 23,
   "id": "921e4065-ba17-44e1-adf5-4a42ad1bd960",
   "metadata": {},
   "outputs": [],
   "source": [
    "closeness_aql = \"\"\"\n",
    "FOR ooc IN organization_organization_transaction_closeness\n",
    "  SORT ooc.effective_closeness DESC\n",
    "  LIMIT 3\n",
    "  LET org = DOCUMENT(CONCAT(\"organizations/\", ooc._key))\n",
    "  RETURN {\n",
    "    id: ooc._key,\n",
    "    name: org.name,\n",
    "    score: ooc.effective_closeness\n",
    "  }\n",
    "\"\"\""
   ]
  },
  {
   "cell_type": "code",
   "execution_count": 25,
   "id": "f14ab99a-0cb2-4690-ae89-14d020406fa2",
   "metadata": {},
   "outputs": [
    {
     "name": "stdout",
     "output_type": "stream",
     "text": [
      "{'id': '0f6bb7bf3256bffac6eb50bf549b2752', 'name': 'Ad Fire Protection Systems Corp', 'score': 6.06}\n",
      "{'id': '4bdea5a3d7e97a8efd8d586e7f682924', 'name': 'GST970206G13 GRUPO STONCOR SA DE CV', 'score': 5.09}\n",
      "{'id': '36d6acce681cb79780c2ccefdb9b2466', 'name': 'Carboline Company', 'score': 4.11}\n"
     ]
    }
   ],
   "source": [
    "closeness_cursor = db.aql.execute(closeness_aql)\n",
    "for doc in closeness_cursor:\n",
    "    print(doc)"
   ]
  },
  {
   "cell_type": "code",
   "execution_count": 29,
   "id": "1a85cc1e-9f41-4888-b6c9-ddd8bd2e4e22",
   "metadata": {},
   "outputs": [],
   "source": [
    "betweeness_aql = \"\"\"\n",
    "FOR ooc IN organization_organization_transaction_betweeness\n",
    "  SORT ooc.line_rank DESC\n",
    "  LIMIT 3\n",
    "  LET org = DOCUMENT(CONCAT(\"organizations/\", ooc._key))\n",
    "  RETURN {\n",
    "    id: ooc._key,\n",
    "    name: org.name,\n",
    "    score: ooc.line_rank\n",
    "  }\n",
    "\"\"\""
   ]
  },
  {
   "cell_type": "code",
   "execution_count": 30,
   "id": "d7c42cc5-dbce-46c0-9413-1f4126baaa68",
   "metadata": {},
   "outputs": [
    {
     "name": "stdout",
     "output_type": "stream",
     "text": [
      "{'id': '66ebf2a3aa71c90b4df3fc93590e22db', 'name': 'Tengizchevroil Llp', 'score': 0.17}\n",
      "{'id': '48541ba40bcab069aa5d91c12a5299d0', 'name': 'Stoncor Benelux B.V.', 'score': 0.08}\n",
      "{'id': '4174ce1ae09c87cce8a4accaf940bc58', 'name': 'Avery Dennison Converted Products De Mexico Sa De Cv', 'score': 0.02}\n"
     ]
    }
   ],
   "source": [
    "betweeness_cursor = db.aql.execute(betweeness_aql)\n",
    "for doc in betweeness_cursor:\n",
    "    print(doc)"
   ]
  },
  {
   "cell_type": "code",
   "execution_count": 34,
   "id": "e16a76ae-f77e-449e-ae78-97d2da4540c1",
   "metadata": {},
   "outputs": [],
   "source": [
    "pagerank_aql = \"\"\"\n",
    "FOR ooc IN organization_organization_transaction_pagerank\n",
    "  SORT ooc.page_rank DESC\n",
    "  LIMIT 3\n",
    "  LET org = DOCUMENT(CONCAT(\"organizations/\", ooc._key))\n",
    "  RETURN {\n",
    "    id: ooc._key,\n",
    "    name: org.name,\n",
    "    score: ooc.page_rank\n",
    "  }\n",
    "\"\"\""
   ]
  },
  {
   "cell_type": "code",
   "execution_count": 35,
   "id": "898ee3e4-4231-4ad2-bbfc-cc5fe3a848da",
   "metadata": {},
   "outputs": [
    {
     "name": "stdout",
     "output_type": "stream",
     "text": [
      "{'id': '66ebf2a3aa71c90b4df3fc93590e22db', 'name': 'Tengizchevroil Llp', 'score': 0.05}\n",
      "{'id': '48541ba40bcab069aa5d91c12a5299d0', 'name': 'Stoncor Benelux B.V.', 'score': 0.04}\n",
      "{'id': 'fd2036609b85edd19d634da435badfa9', 'name': 'Consortium Isker Limited Liability Partnership', 'score': 0.01}\n"
     ]
    }
   ],
   "source": [
    "pagerank_cursor = db.aql.execute(pagerank_aql)\n",
    "for doc in pagerank_cursor:\n",
    "    print(doc)"
   ]
  },
  {
   "cell_type": "code",
   "execution_count": null,
   "id": "eb99597f-c1ab-49ef-a502-39d6409c4350",
   "metadata": {},
   "outputs": [],
   "source": []
  }
 ],
 "metadata": {
  "kernelspec": {
   "display_name": "Python 3 (ipykernel)",
   "language": "python",
   "name": "python3"
  },
  "language_info": {
   "codemirror_mode": {
    "name": "ipython",
    "version": 3
   },
   "file_extension": ".py",
   "mimetype": "text/x-python",
   "name": "python",
   "nbconvert_exporter": "python",
   "pygments_lexer": "ipython3",
   "version": "3.11.10"
  }
 },
 "nbformat": 4,
 "nbformat_minor": 5
}

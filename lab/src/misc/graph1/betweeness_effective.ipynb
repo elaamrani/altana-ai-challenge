{
 "cells": [
  {
   "cell_type": "code",
   "execution_count": 1,
   "id": "5bbab43a-e383-407b-85b3-06edd8200384",
   "metadata": {},
   "outputs": [],
   "source": [
    "import pandas as pd\n",
    "from arango import ArangoClient"
   ]
  },
  {
   "cell_type": "code",
   "execution_count": 2,
   "id": "55856a1c-caeb-476c-9e92-3d125ae08d2e",
   "metadata": {},
   "outputs": [],
   "source": [
    "client = ArangoClient(hosts=\"https://2ae4f052d710.arangodb.cloud:8529\")\n",
    "\n",
    "db = client.db('machine_learning', username='lab_test', password='z-rRdN-Enf4qQwybGiVdbG')"
   ]
  },
  {
   "cell_type": "code",
   "execution_count": 3,
   "id": "9069586f-bfc2-491f-a7ff-c2165320a9f5",
   "metadata": {},
   "outputs": [],
   "source": [
    "pregel = db.pregel"
   ]
  },
  {
   "cell_type": "code",
   "execution_count": 4,
   "id": "f94d3c80-103a-4c6a-8877-7ae57545bad6",
   "metadata": {},
   "outputs": [],
   "source": [
    "job_id = db.pregel.create_job(\n",
    "    graph='organization_organization_transaction',\n",
    "    algorithm='linerank',\n",
    "    store=False,\n",
    "    max_gss=None,\n",
    "    thread_count=1,\n",
    "    async_mode=False,\n",
    "    result_field='score'\n",
    "    # algorithm_params={'threshold': 0.000001}\n",
    ")"
   ]
  },
  {
   "cell_type": "code",
   "execution_count": 5,
   "id": "63607f42-2109-4ed6-b28d-8581d5db0138",
   "metadata": {},
   "outputs": [],
   "source": [
    "job = pregel.job(job_id)"
   ]
  },
  {
   "cell_type": "code",
   "execution_count": 6,
   "id": "46176c4e-1eef-4a32-92d6-94776a2ab1c0",
   "metadata": {},
   "outputs": [],
   "source": [
    "aql_query = \"\"\"\n",
    "FOR res IN PREGEL_RESULT(@job_id)\n",
    "    RETURN {\"_key\": res._key, \"line_rank\": ROUND(res.score*100)/100}\n",
    "\"\"\"\n",
    "cursor = db.aql.execute(aql_query, bind_vars={'job_id': job_id})\n",
    "scores = list(cursor)"
   ]
  },
  {
   "cell_type": "code",
   "execution_count": 7,
   "id": "21184897-953e-4853-a5db-7a044648fa10",
   "metadata": {},
   "outputs": [],
   "source": [
    "if db.has_collection('organization_organization_transaction_betweeness'):\n",
    "    collection = db.collection('organization_organization_transaction_betweeness')\n",
    "else:\n",
    "    collection = db.create_collection('organization_organization_transaction_betweeness')"
   ]
  },
  {
   "cell_type": "code",
   "execution_count": 8,
   "id": "9846bedb-475e-4e94-9ef5-d969f9c468c2",
   "metadata": {},
   "outputs": [
    {
     "data": {
      "text/plain": [
       "True"
      ]
     },
     "execution_count": 8,
     "metadata": {},
     "output_type": "execute_result"
    }
   ],
   "source": [
    "collection.insert_many(scores, overwrite_mode=\"replace\", silent=True)"
   ]
  },
  {
   "cell_type": "code",
   "execution_count": 10,
   "id": "53230eac-1a4b-4c83-be4e-5d8b7d0e28a6",
   "metadata": {},
   "outputs": [],
   "source": [
    "scores_df = pd.DataFrame(scores)"
   ]
  },
  {
   "cell_type": "code",
   "execution_count": 18,
   "id": "5a7a31b0-d505-4bf8-a7c3-fac5a75b34eb",
   "metadata": {},
   "outputs": [
    {
     "data": {
      "text/html": [
       "<div>\n",
       "<style scoped>\n",
       "    .dataframe tbody tr th:only-of-type {\n",
       "        vertical-align: middle;\n",
       "    }\n",
       "\n",
       "    .dataframe tbody tr th {\n",
       "        vertical-align: top;\n",
       "    }\n",
       "\n",
       "    .dataframe thead th {\n",
       "        text-align: right;\n",
       "    }\n",
       "</style>\n",
       "<table border=\"1\" class=\"dataframe\">\n",
       "  <thead>\n",
       "    <tr style=\"text-align: right;\">\n",
       "      <th></th>\n",
       "      <th>_key</th>\n",
       "      <th>line_rank</th>\n",
       "    </tr>\n",
       "  </thead>\n",
       "  <tbody>\n",
       "    <tr>\n",
       "      <th>532</th>\n",
       "      <td>54b1e8a8922713623c4dc0f3bdbd29b5</td>\n",
       "      <td>0.02</td>\n",
       "    </tr>\n",
       "    <tr>\n",
       "      <th>768</th>\n",
       "      <td>66ebf2a3aa71c90b4df3fc93590e22db</td>\n",
       "      <td>0.17</td>\n",
       "    </tr>\n",
       "    <tr>\n",
       "      <th>794</th>\n",
       "      <td>2c398f54dacfc67b9fbe414565285dba</td>\n",
       "      <td>0.02</td>\n",
       "    </tr>\n",
       "    <tr>\n",
       "      <th>921</th>\n",
       "      <td>4174ce1ae09c87cce8a4accaf940bc58</td>\n",
       "      <td>0.02</td>\n",
       "    </tr>\n",
       "    <tr>\n",
       "      <th>1807</th>\n",
       "      <td>48541ba40bcab069aa5d91c12a5299d0</td>\n",
       "      <td>0.08</td>\n",
       "    </tr>\n",
       "  </tbody>\n",
       "</table>\n",
       "</div>"
      ],
      "text/plain": [
       "                                  _key  line_rank\n",
       "532   54b1e8a8922713623c4dc0f3bdbd29b5       0.02\n",
       "768   66ebf2a3aa71c90b4df3fc93590e22db       0.17\n",
       "794   2c398f54dacfc67b9fbe414565285dba       0.02\n",
       "921   4174ce1ae09c87cce8a4accaf940bc58       0.02\n",
       "1807  48541ba40bcab069aa5d91c12a5299d0       0.08"
      ]
     },
     "execution_count": 18,
     "metadata": {},
     "output_type": "execute_result"
    }
   ],
   "source": [
    "scores_df[scores_df.line_rank > 0.01]"
   ]
  },
  {
   "cell_type": "code",
   "execution_count": null,
   "id": "2c3f0e91-ac93-47ca-9ed6-47013a54cdac",
   "metadata": {},
   "outputs": [],
   "source": []
  }
 ],
 "metadata": {
  "kernelspec": {
   "display_name": "Python 3 (ipykernel)",
   "language": "python",
   "name": "python3"
  },
  "language_info": {
   "codemirror_mode": {
    "name": "ipython",
    "version": 3
   },
   "file_extension": ".py",
   "mimetype": "text/x-python",
   "name": "python",
   "nbconvert_exporter": "python",
   "pygments_lexer": "ipython3",
   "version": "3.11.10"
  }
 },
 "nbformat": 4,
 "nbformat_minor": 5
}
